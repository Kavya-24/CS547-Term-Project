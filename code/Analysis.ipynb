{
  "cells": [
    {
      "cell_type": "markdown",
      "metadata": {
        "id": "p8JsWLVy73xJ"
      },
      "source": [
        "## Analysis\n",
        "\n",
        "Steps to reproduce\n",
        "1. Load a new run-time\n",
        "2. Load all the test_files (solidity smart contracts) in the run-time enivronment"
      ]
    },
    {
      "cell_type": "markdown",
      "metadata": {
        "id": "9EjoMp5c7g4-"
      },
      "source": [
        "## Static-Analysis\n",
        "Static code analysis is a method of debugging by examining source code before a program is run. It's done by analyzing a set of code against a set (or multiple sets) of coding rules. Static analysis identifies defects before we run a program"
      ]
    },
    {
      "cell_type": "code",
      "execution_count": 6,
      "metadata": {
        "id": "RAn4BvutxTBM",
        "colab": {
          "base_uri": "https://localhost:8080/"
        },
        "outputId": "31dfd508-0056-4f99-f5e4-166bb69a87c1"
      },
      "outputs": [
        {
          "output_type": "stream",
          "name": "stdout",
          "text": [
            "Looking in indexes: https://pypi.org/simple, https://us-python.pkg.dev/colab-wheels/public/simple/\n",
            "Requirement already satisfied: slither-analyzer in /usr/local/lib/python3.9/dist-packages (0.9.3)\n",
            "Requirement already satisfied: web3>=6.0.0 in /usr/local/lib/python3.9/dist-packages (from slither-analyzer) (6.2.0)\n",
            "Requirement already satisfied: pycryptodome>=3.4.6 in /usr/local/lib/python3.9/dist-packages (from slither-analyzer) (3.17)\n",
            "Requirement already satisfied: packaging in /usr/local/lib/python3.9/dist-packages (from slither-analyzer) (23.1)\n",
            "Requirement already satisfied: prettytable>=0.7.2 in /usr/local/lib/python3.9/dist-packages (from slither-analyzer) (0.7.2)\n",
            "Requirement already satisfied: crytic-compile<0.4.0,>=0.3.1 in /usr/local/lib/python3.9/dist-packages (from slither-analyzer) (0.3.1)\n",
            "Requirement already satisfied: solc-select>=v1.0.2 in /usr/local/lib/python3.9/dist-packages (from crytic-compile<0.4.0,>=0.3.1->slither-analyzer) (1.0.3)\n",
            "Requirement already satisfied: cbor2 in /usr/local/lib/python3.9/dist-packages (from crytic-compile<0.4.0,>=0.3.1->slither-analyzer) (5.4.6)\n",
            "Requirement already satisfied: websockets>=10.0.0 in /usr/local/lib/python3.9/dist-packages (from web3>=6.0.0->slither-analyzer) (11.0.2)\n",
            "Collecting eth-utils>=2.1.0\n",
            "  Using cached eth_utils-2.1.0-py3-none-any.whl (24 kB)\n",
            "Requirement already satisfied: jsonschema>=4.0.0 in /usr/local/lib/python3.9/dist-packages (from web3>=6.0.0->slither-analyzer) (4.3.3)\n",
            "Collecting eth-account>=0.8.0\n",
            "  Using cached eth_account-0.8.0-py3-none-any.whl (102 kB)\n",
            "Collecting eth-typing>=3.0.0\n",
            "  Using cached eth_typing-3.3.0-py3-none-any.whl (6.3 kB)\n",
            "Requirement already satisfied: protobuf>=4.21.6 in /usr/local/lib/python3.9/dist-packages (from web3>=6.0.0->slither-analyzer) (4.22.3)\n",
            "Requirement already satisfied: hexbytes>=0.1.0 in /usr/local/lib/python3.9/dist-packages (from web3>=6.0.0->slither-analyzer) (0.2.3)\n",
            "Collecting eth-abi>=4.0.0\n",
            "  Using cached eth_abi-4.0.0-py3-none-any.whl (28 kB)\n",
            "Requirement already satisfied: lru-dict>=1.1.6 in /usr/local/lib/python3.9/dist-packages (from web3>=6.0.0->slither-analyzer) (1.1.8)\n",
            "Requirement already satisfied: aiohttp>=3.7.4.post0 in /usr/local/lib/python3.9/dist-packages (from web3>=6.0.0->slither-analyzer) (3.8.4)\n",
            "Requirement already satisfied: requests>=2.16.0 in /usr/local/lib/python3.9/dist-packages (from web3>=6.0.0->slither-analyzer) (2.27.1)\n",
            "Collecting eth-hash[pycryptodome]>=0.5.1\n",
            "  Using cached eth_hash-0.5.1-py3-none-any.whl (9.0 kB)\n",
            "Requirement already satisfied: multidict<7.0,>=4.5 in /usr/local/lib/python3.9/dist-packages (from aiohttp>=3.7.4.post0->web3>=6.0.0->slither-analyzer) (6.0.4)\n",
            "Requirement already satisfied: attrs>=17.3.0 in /usr/local/lib/python3.9/dist-packages (from aiohttp>=3.7.4.post0->web3>=6.0.0->slither-analyzer) (23.1.0)\n",
            "Requirement already satisfied: charset-normalizer<4.0,>=2.0 in /usr/local/lib/python3.9/dist-packages (from aiohttp>=3.7.4.post0->web3>=6.0.0->slither-analyzer) (2.0.12)\n",
            "Requirement already satisfied: aiosignal>=1.1.2 in /usr/local/lib/python3.9/dist-packages (from aiohttp>=3.7.4.post0->web3>=6.0.0->slither-analyzer) (1.3.1)\n",
            "Requirement already satisfied: yarl<2.0,>=1.0 in /usr/local/lib/python3.9/dist-packages (from aiohttp>=3.7.4.post0->web3>=6.0.0->slither-analyzer) (1.9.1)\n",
            "Requirement already satisfied: frozenlist>=1.1.1 in /usr/local/lib/python3.9/dist-packages (from aiohttp>=3.7.4.post0->web3>=6.0.0->slither-analyzer) (1.3.3)\n",
            "Requirement already satisfied: async-timeout<5.0,>=4.0.0a3 in /usr/local/lib/python3.9/dist-packages (from aiohttp>=3.7.4.post0->web3>=6.0.0->slither-analyzer) (4.0.2)\n",
            "Collecting parsimonious<0.10.0,>=0.9.0\n",
            "  Using cached parsimonious-0.9.0-py3-none-any.whl\n",
            "Collecting eth-keys<0.5,>=0.4.0\n",
            "  Using cached eth_keys-0.4.0-py3-none-any.whl (21 kB)\n",
            "Requirement already satisfied: rlp<4,>=1.0.0 in /usr/local/lib/python3.9/dist-packages (from eth-account>=0.8.0->web3>=6.0.0->slither-analyzer) (2.0.1)\n",
            "Collecting eth-rlp<1,>=0.3.0\n",
            "  Using cached eth_rlp-0.3.0-py3-none-any.whl (5.0 kB)\n",
            "Requirement already satisfied: bitarray<3,>=2.4.0 in /usr/local/lib/python3.9/dist-packages (from eth-account>=0.8.0->web3>=6.0.0->slither-analyzer) (2.7.3)\n",
            "Collecting eth-keyfile<0.7.0,>=0.6.0\n",
            "  Using cached eth_keyfile-0.6.1-py3-none-any.whl (6.5 kB)\n",
            "Requirement already satisfied: cytoolz>=0.10.1 in /usr/local/lib/python3.9/dist-packages (from eth-utils>=2.1.0->web3>=6.0.0->slither-analyzer) (0.11.2)\n",
            "Requirement already satisfied: pyrsistent!=0.17.0,!=0.17.1,!=0.17.2,>=0.14.0 in /usr/local/lib/python3.9/dist-packages (from jsonschema>=4.0.0->web3>=6.0.0->slither-analyzer) (0.19.3)\n",
            "Requirement already satisfied: certifi>=2017.4.17 in /usr/local/lib/python3.9/dist-packages (from requests>=2.16.0->web3>=6.0.0->slither-analyzer) (2022.12.7)\n",
            "Requirement already satisfied: urllib3<1.27,>=1.21.1 in /usr/local/lib/python3.9/dist-packages (from requests>=2.16.0->web3>=6.0.0->slither-analyzer) (1.26.15)\n",
            "Requirement already satisfied: idna<4,>=2.5 in /usr/local/lib/python3.9/dist-packages (from requests>=2.16.0->web3>=6.0.0->slither-analyzer) (3.4)\n",
            "Requirement already satisfied: toolz>=0.8.0 in /usr/local/lib/python3.9/dist-packages (from cytoolz>=0.10.1->eth-utils>=2.1.0->web3>=6.0.0->slither-analyzer) (0.12.0)\n",
            "Requirement already satisfied: regex>=2022.3.15 in /usr/local/lib/python3.9/dist-packages (from parsimonious<0.10.0,>=0.9.0->eth-abi>=4.0.0->web3>=6.0.0->slither-analyzer) (2022.10.31)\n",
            "Collecting rlp<4,>=1.0.0\n",
            "  Using cached rlp-3.0.0-py2.py3-none-any.whl (20 kB)\n",
            "Installing collected packages: parsimonious, eth-typing, eth-hash, eth-utils, rlp, eth-keys, eth-abi, eth-rlp, eth-keyfile, eth-account\n",
            "  Attempting uninstall: parsimonious\n",
            "    Found existing installation: parsimonious 0.8.1\n",
            "    Uninstalling parsimonious-0.8.1:\n",
            "      Successfully uninstalled parsimonious-0.8.1\n",
            "  Attempting uninstall: eth-typing\n",
            "    Found existing installation: eth-typing 2.3.0\n",
            "    Uninstalling eth-typing-2.3.0:\n",
            "      Successfully uninstalled eth-typing-2.3.0\n",
            "  Attempting uninstall: eth-hash\n",
            "    Found existing installation: eth-hash 0.3.3\n",
            "    Uninstalling eth-hash-0.3.3:\n",
            "      Successfully uninstalled eth-hash-0.3.3\n",
            "  Attempting uninstall: eth-utils\n",
            "    Found existing installation: eth-utils 1.10.0\n",
            "    Uninstalling eth-utils-1.10.0:\n",
            "      Successfully uninstalled eth-utils-1.10.0\n",
            "  Attempting uninstall: rlp\n",
            "    Found existing installation: rlp 2.0.1\n",
            "    Uninstalling rlp-2.0.1:\n",
            "      Successfully uninstalled rlp-2.0.1\n",
            "  Attempting uninstall: eth-keys\n",
            "    Found existing installation: eth-keys 0.3.4\n",
            "    Uninstalling eth-keys-0.3.4:\n",
            "      Successfully uninstalled eth-keys-0.3.4\n",
            "  Attempting uninstall: eth-abi\n",
            "    Found existing installation: eth-abi 2.2.0\n",
            "    Uninstalling eth-abi-2.2.0:\n",
            "      Successfully uninstalled eth-abi-2.2.0\n",
            "  Attempting uninstall: eth-rlp\n",
            "    Found existing installation: eth-rlp 0.2.1\n",
            "    Uninstalling eth-rlp-0.2.1:\n",
            "      Successfully uninstalled eth-rlp-0.2.1\n",
            "  Attempting uninstall: eth-keyfile\n",
            "    Found existing installation: eth-keyfile 0.5.1\n",
            "    Uninstalling eth-keyfile-0.5.1:\n",
            "      Successfully uninstalled eth-keyfile-0.5.1\n",
            "  Attempting uninstall: eth-account\n",
            "    Found existing installation: eth-account 0.5.9\n",
            "    Uninstalling eth-account-0.5.9:\n",
            "      Successfully uninstalled eth-account-0.5.9\n",
            "\u001b[31mERROR: pip's dependency resolver does not currently take into account all the packages that are installed. This behaviour is the source of the following dependency conflicts.\n",
            "trie 2.0.0a5 requires eth-utils<2.0.0,>=1.6.1, but you have eth-utils 2.1.0 which is incompatible.\n",
            "trie 2.0.0a5 requires rlp<3,>=1, but you have rlp 3.0.0 which is incompatible.\n",
            "py-evm 0.5.0a1 requires eth-keys<0.4.0,>=0.2.1, but you have eth-keys 0.4.0 which is incompatible.\n",
            "py-evm 0.5.0a1 requires eth-typing<3.0.0,>=2.2.0, but you have eth-typing 3.3.0 which is incompatible.\n",
            "py-evm 0.5.0a1 requires eth-utils<2.0.0,>=1.9.4, but you have eth-utils 2.1.0 which is incompatible.\n",
            "py-evm 0.5.0a1 requires rlp<3,>=2, but you have rlp 3.0.0 which is incompatible.\n",
            "py-ecc 4.1.0 requires eth-typing<3.0.0,>=2.1.0, but you have eth-typing 3.3.0 which is incompatible.\n",
            "py-ecc 4.1.0 requires eth-utils<2,>=1.3.0, but you have eth-utils 2.1.0 which is incompatible.\n",
            "mythril 0.23.22 requires eth-abi<3.0.0,>=2.0.0b4, but you have eth-abi 4.0.0 which is incompatible.\n",
            "mythril 0.23.22 requires eth-account<0.6.0,>=0.5.6, but you have eth-account 0.8.0 which is incompatible.\n",
            "mythril 0.23.22 requires eth-hash<0.4.0,>=0.3.1, but you have eth-hash 0.5.1 which is incompatible.\n",
            "mythril 0.23.22 requires eth-keyfile<0.6.0,>=0.5.1, but you have eth-keyfile 0.6.1 which is incompatible.\n",
            "mythril 0.23.22 requires eth-keys<0.4.0,>=0.2.1, but you have eth-keys 0.4.0 which is incompatible.\n",
            "mythril 0.23.22 requires eth-rlp<0.3.0,>=0.1.0, but you have eth-rlp 0.3.0 which is incompatible.\n",
            "mythril 0.23.22 requires eth-typing<3.0.0,>=2.1.0, but you have eth-typing 3.3.0 which is incompatible.\n",
            "mythril 0.23.22 requires eth-utils<2, but you have eth-utils 2.1.0 which is incompatible.\n",
            "mythril 0.23.22 requires rlp<3, but you have rlp 3.0.0 which is incompatible.\n",
            "eth-bloom 1.0.4 requires eth-hash[pycryptodome]<0.4.0,>=0.3.1, but you have eth-hash 0.5.1 which is incompatible.\u001b[0m\u001b[31m\n",
            "\u001b[0mSuccessfully installed eth-abi-4.0.0 eth-account-0.8.0 eth-hash-0.5.1 eth-keyfile-0.6.1 eth-keys-0.4.0 eth-rlp-0.3.0 eth-typing-3.3.0 eth-utils-2.1.0 parsimonious-0.9.0 rlp-3.0.0\n",
            "Looking in indexes: https://pypi.org/simple, https://us-python.pkg.dev/colab-wheels/public/simple/\n",
            "Requirement already satisfied: solc-select in /usr/local/lib/python3.9/dist-packages (1.0.3)\n",
            "Requirement already satisfied: packaging in /usr/local/lib/python3.9/dist-packages (from solc-select) (23.1)\n",
            "Requirement already satisfied: pycryptodome>=3.4.6 in /usr/local/lib/python3.9/dist-packages (from solc-select) (3.17)\n",
            "Installing '0.8.9'...\n",
            "Version '0.8.9' installed.\n"
          ]
        }
      ],
      "source": [
        "#set up slither\n",
        "!pip install slither-analyzer\n",
        "!pip install solc-select\n",
        "!solc-select install 0.8.9\n",
        "import os\n",
        "os.environ['SOLC_VERSION'] = '0.8.9'"
      ]
    },
    {
      "cell_type": "code",
      "execution_count": 10,
      "metadata": {
        "colab": {
          "base_uri": "https://localhost:8080/"
        },
        "id": "Spwsdy4N0roT",
        "outputId": "f113853d-3a34-4eff-bec6-77ba42a3bc68"
      },
      "outputs": [
        {
          "output_type": "stream",
          "name": "stdout",
          "text": [
            "Compilation warnings/errors on /content/test_type1.sol:\n",
            "Warning: Visibility for constructor is ignored. If you want the contract to be non-deployable, making it \"abstract\" is sufficient.\n",
            " --> test_type1.sol:9:5:\n",
            "  |\n",
            "9 |     constructor() public {\n",
            "  |     ^ (Relevant source part starts here and spans across multiple lines).\n",
            "\n",
            "Warning: Visibility for constructor is ignored. If you want the contract to be non-deployable, making it \"abstract\" is sufficient.\n",
            "  --> test_type1.sol:33:5:\n",
            "   |\n",
            "33 |     constructor(VulnerableContract _vulnerableContract) public {\n",
            "   |     ^ (Relevant source part starts here and spans across multiple lines).\n",
            "\n",
            "\n",
            "INFO:Detectors:\u001b[92m\n",
            "Pragma version0.8.9 (test_type1.sol#2) allows old versions\n",
            "solc-0.8.9 is not recommended for deployment\n",
            "Reference: https://github.com/crytic/slither/wiki/Detector-Documentation#incorrect-versions-of-solidity\u001b[0m\n",
            "INFO:Detectors:\u001b[92m\n",
            "Parameter VulnerableContract.updateVariable(uint256)._newVariable (test_type1.sol#13) is not in mixedCase\n",
            "Parameter VulnerableContract.setUnusedVariable(uint256)._unusedVariable (test_type1.sol#21) is not in mixedCase\n",
            "Reference: https://github.com/crytic/slither/wiki/Detector-Documentation#conformance-to-solidity-naming-conventions\u001b[0m\n",
            "INFO:Detectors:\u001b[92m\n",
            "AttackerContract.vulnerableContract (test_type1.sol#31) should be immutable \n",
            "Reference: https://github.com/crytic/slither/wiki/Detector-Documentation#state-variables-that-could-be-declared-immutable\u001b[0m\n",
            "INFO:Slither:/content/test_type1.sol analyzed (2 contracts with 85 detectors), 5 result(s) found\n"
          ]
        }
      ],
      "source": [
        "!slither /content/test_type1.sol"
      ]
    },
    {
      "cell_type": "code",
      "source": [
        "!slither /content/safeMath.sol"
      ],
      "metadata": {
        "colab": {
          "base_uri": "https://localhost:8080/"
        },
        "id": "lj1PncPLFLVm",
        "outputId": "97ea9ad8-751a-4458-a611-4549adddf2ae"
      },
      "execution_count": 11,
      "outputs": [
        {
          "output_type": "stream",
          "name": "stdout",
          "text": [
            "Compilation warnings/errors on /content/safeMath.sol:\n",
            "Warning: SPDX license identifier not provided in source file. Before publishing, consider adding a comment containing \"SPDX-License-Identifier: <SPDX-License>\" to each source file. Use \"SPDX-License-Identifier: UNLICENSED\" for non-open-source code. Please see https://spdx.org for more information.\n",
            "--> safeMath.sol\n",
            "\n",
            "\n",
            "INFO:Detectors:\u001b[92m\n",
            "Pragma version0.8.9 (safeMath.sol#1) allows old versions\n",
            "solc-0.8.9 is not recommended for deployment\n",
            "Reference: https://github.com/crytic/slither/wiki/Detector-Documentation#incorrect-versions-of-solidity\u001b[0m\n",
            "INFO:Slither:/content/safeMath.sol analyzed (1 contracts with 85 detectors), 2 result(s) found\n"
          ]
        }
      ]
    },
    {
      "cell_type": "markdown",
      "metadata": {
        "id": "ZXg3rFZH80dU"
      },
      "source": [
        "## Symbolic Execution\n",
        "Symbolic execution is a method of executing a program abstractly so that it covers multiple execution paths through the code. The execution makes use of “symbols” as inputs to the program and the results are expressed in terms of the symbolic inputs"
      ]
    },
    {
      "cell_type": "code",
      "execution_count": null,
      "metadata": {
        "id": "lZNP97eo50aH"
      },
      "outputs": [],
      "source": [
        "#set up manticore\n",
        "!pip install manticore==0.3.0\n",
        "!pip install protobuf==3.20.0\n",
        "!pip install solidity_parser\n",
        "!pip install solc\n",
        "!pip install py-solc-x\n",
        "!pip install manticore-eth\n",
        "!pip install manticore[native]\n",
        "import os\n",
        "os.environ['PROTOCOL_BUFFERS_PYTHON_IMPLEMENTATION'] = 'python'\n",
        "from manticore.ethereum import ManticoreEVM\n",
        "from manticore.ethereum import ManticoreEVM\n",
        "from manticore.ethereum.abi import ABI\n",
        "from solcx import compile_source\n",
        "import json\n"
      ]
    },
    {
      "cell_type": "code",
      "execution_count": null,
      "metadata": {
        "colab": {
          "base_uri": "https://localhost:8080/"
        },
        "id": "dTltt5CTwtrx",
        "outputId": "b1c70ebd-3bdb-4560-b349-a730b0ec6970"
      },
      "outputs": [
        {
          "output_type": "stream",
          "name": "stdout",
          "text": [
            "\u001b[1m\u001b[31mWarning\u001b[0m\u001b[1m\u001b[37m: Visibility for constructor is ignored. If you want the contract to be non-deployable, making it \"abstract\" is sufficient.\n",
            "\u001b[0m \u001b[1m\u001b[34m-->\u001b[0m test_type1.sol:9:5:\n",
            "  \u001b[1m\u001b[34m|\u001b[0m\n",
            "\u001b[1m\u001b[34m9 |\u001b[0m     \u001b[33mconstructor() public {\n",
            "\u001b[0m  \u001b[1m\u001b[34m|\u001b[0m     \u001b[1m\u001b[33m^ (Relevant source part starts here and spans across multiple lines).\u001b[0m\n",
            "\n",
            "\u001b[1m\u001b[31mWarning\u001b[0m\u001b[1m\u001b[37m: Visibility for constructor is ignored. If you want the contract to be non-deployable, making it \"abstract\" is sufficient.\n",
            "\u001b[0m  \u001b[1m\u001b[34m-->\u001b[0m test_type1.sol:33:5:\n",
            "   \u001b[1m\u001b[34m|\u001b[0m\n",
            "\u001b[1m\u001b[34m33 |\u001b[0m     \u001b[33mconstructor(VulnerableContract _vulnerableContract) public {\n",
            "\u001b[0m   \u001b[1m\u001b[34m|\u001b[0m     \u001b[1m\u001b[33m^ (Relevant source part starts here and spans across multiple lines).\u001b[0m\n",
            "\n"
          ]
        }
      ],
      "source": [
        "!solc /content/test_type1.sol --bin --abi --optimize -o build"
      ]
    },
    {
      "cell_type": "code",
      "execution_count": null,
      "metadata": {
        "colab": {
          "base_uri": "https://localhost:8080/"
        },
        "id": "bRnQqGZIve70",
        "outputId": "a96e914e-44cb-4ed4-ffbb-f4aae3008e8b"
      },
      "outputs": [
        {
          "output_type": "stream",
          "name": "stdout",
          "text": [
            "{'VulnerableContract.bin': 'VulnerableContract.abi', 'AttackerContract.bin': 'AttackerContract.abi'}\n"
          ]
        }
      ],
      "source": [
        "# set the path to the directory containing the uploaded files\n",
        "path = \"/content/build\"\n",
        "filenames = os.listdir(path)\n",
        "contract_specs = {}\n",
        "for f in filenames:\n",
        "  name, ext = f.split('.')\n",
        "  if ext == 'bin':\n",
        "    contract_specs[f] = name + \".abi\"\n",
        "\n",
        "print(contract_specs)"
      ]
    },
    {
      "cell_type": "code",
      "execution_count": null,
      "metadata": {
        "colab": {
          "base_uri": "https://localhost:8080/"
        },
        "id": "Pi3SGZCwySwl",
        "outputId": "cc324db5-5194-46a0-bbdd-cc48043949d3"
      },
      "outputs": [
        {
          "output_type": "stream",
          "name": "stdout",
          "text": [
            "solc, the solidity compiler commandline interface\n",
            "Version: 0.8.9+commit.e5eed63a.Linux.g++\n",
            "Z3 version 4.12.1 - 64 bit\n"
          ]
        }
      ],
      "source": [
        "!solc --version && z3 --version"
      ]
    },
    {
      "cell_type": "code",
      "source": [
        "!manticore safeMath.sol"
      ],
      "metadata": {
        "id": "oacJGU92MDhe"
      },
      "execution_count": null,
      "outputs": []
    },
    {
      "cell_type": "code",
      "source": [
        "!zip -r /content/mcore_sm49_f_4.zip /content/mcore_sm49_f_4"
      ],
      "metadata": {
        "id": "rp0gogGf9d2B"
      },
      "execution_count": null,
      "outputs": []
    },
    {
      "cell_type": "code",
      "source": [
        "!manticore test_type1.sol"
      ],
      "metadata": {
        "colab": {
          "base_uri": "https://localhost:8080/"
        },
        "id": "_nLJYnGJ-dq5",
        "outputId": "649e8904-36af-430a-8afb-a15300b3325a"
      },
      "execution_count": null,
      "outputs": [
        {
          "output_type": "stream",
          "name": "stdout",
          "text": [
            "2023-04-24 15:55:22,239: [20954] m.main:\u001b[34mINFO:\u001b[0m Registered plugins: DetectUninitializedMemory, DetectDelegatecall, DetectExternalCallAndLeak, DetectInvalid, DetectIntegerOverflow, DetectUnusedRetVal, DetectReentrancySimple, DetectReentrancyAdvanced, DetectEnvInstruction, DetectSuicidal, DetectUninitializedStorage\n",
            "2023-04-24 15:55:22,240: [20954] m.main:\u001b[34mINFO:\u001b[0m Beginning analysis\n",
            "2023-04-24 15:55:22,248: [20954] m.e.manticore:\u001b[34mINFO:\u001b[0m Starting symbolic create contract\n",
            "2023-04-24 15:55:22,815: [21001] m.c.manticore:\u001b[34mINFO:\u001b[0m Generated testcase No. 0 - NO STATE RESULT (?)(0 txs)\n",
            "2023-04-24 15:55:23,004: [20954] m.c.manticore:\u001b[34mINFO:\u001b[0m Results in /content/mcore_665mhgyb\n"
          ]
        }
      ]
    },
    {
      "cell_type": "code",
      "source": [],
      "metadata": {
        "id": "708TG4bT-gq8"
      },
      "execution_count": null,
      "outputs": []
    },
    {
      "cell_type": "markdown",
      "source": [
        "## Mythril\n",
        "Mythril is an open-source security analysis tool used to detect security vulnerabilities in smart contracts built for Ethereum, Hedera, Quorum, Vechain, Roostock and other EVM-compatible blockchains"
      ],
      "metadata": {
        "id": "zlI4_OnFuvIw"
      }
    },
    {
      "cell_type": "code",
      "execution_count": 3,
      "metadata": {
        "id": "pceFs3MoyS0y",
        "colab": {
          "base_uri": "https://localhost:8080/"
        },
        "outputId": "42ae6d31-7b15-427f-88af-a8205e3a5a6c"
      },
      "outputs": [
        {
          "output_type": "stream",
          "name": "stdout",
          "text": [
            "Looking in indexes: https://pypi.org/simple, https://us-python.pkg.dev/colab-wheels/public/simple/\n",
            "Collecting mythril\n",
            "  Downloading mythril-0.23.22.tar.gz (4.5 MB)\n",
            "\u001b[2K     \u001b[90m━━━━━━━━━━━━━━━━━━━━━━━━━━━━━━━━━━━━━━━━\u001b[0m \u001b[32m4.5/4.5 MB\u001b[0m \u001b[31m31.2 MB/s\u001b[0m eta \u001b[36m0:00:00\u001b[0m\n",
            "\u001b[?25h  Preparing metadata (setup.py) ... \u001b[?25l\u001b[?25hdone\n",
            "Collecting blake2b-py\n",
            "  Downloading blake2b_py-0.1.4-cp39-cp39-manylinux2010_x86_64.whl (151 kB)\n",
            "\u001b[2K     \u001b[90m━━━━━━━━━━━━━━━━━━━━━━━━━━━━━━━━━━━━━━\u001b[0m \u001b[32m151.7/151.7 kB\u001b[0m \u001b[31m17.3 MB/s\u001b[0m eta \u001b[36m0:00:00\u001b[0m\n",
            "\u001b[?25hCollecting coloredlogs>=10.0\n",
            "  Downloading coloredlogs-15.0.1-py2.py3-none-any.whl (46 kB)\n",
            "\u001b[2K     \u001b[90m━━━━━━━━━━━━━━━━━━━━━━━━━━━━━━━━━━━━━━━━\u001b[0m \u001b[32m46.0/46.0 kB\u001b[0m \u001b[31m5.6 MB/s\u001b[0m eta \u001b[36m0:00:00\u001b[0m\n",
            "\u001b[?25hCollecting coincurve>=13.0.0\n",
            "  Downloading coincurve-18.0.0-cp39-cp39-manylinux_2_17_x86_64.manylinux2014_x86_64.whl (1.4 MB)\n",
            "\u001b[2K     \u001b[90m━━━━━━━━━━━━━━━━━━━━━━━━━━━━━━━━━━━━━━━━\u001b[0m \u001b[32m1.4/1.4 MB\u001b[0m \u001b[31m66.2 MB/s\u001b[0m eta \u001b[36m0:00:00\u001b[0m\n",
            "\u001b[?25hRequirement already satisfied: cython in /usr/local/lib/python3.9/dist-packages (from mythril) (0.29.34)\n",
            "Collecting cytoolz<0.12.0\n",
            "  Downloading cytoolz-0.11.2.tar.gz (481 kB)\n",
            "\u001b[2K     \u001b[90m━━━━━━━━━━━━━━━━━━━━━━━━━━━━━━━━━━━━━━\u001b[0m \u001b[32m481.0/481.0 kB\u001b[0m \u001b[31m38.1 MB/s\u001b[0m eta \u001b[36m0:00:00\u001b[0m\n",
            "\u001b[?25h  Preparing metadata (setup.py) ... \u001b[?25l\u001b[?25hdone\n",
            "Collecting asn1crypto>=0.22.0\n",
            "  Downloading asn1crypto-1.5.1-py2.py3-none-any.whl (105 kB)\n",
            "\u001b[2K     \u001b[90m━━━━━━━━━━━━━━━━━━━━━━━━━━━━━━━━━━━━━━\u001b[0m \u001b[32m105.0/105.0 kB\u001b[0m \u001b[31m14.1 MB/s\u001b[0m eta \u001b[36m0:00:00\u001b[0m\n",
            "\u001b[?25hCollecting configparser>=3.5.0\n",
            "  Downloading configparser-5.3.0-py3-none-any.whl (19 kB)\n",
            "Collecting coverage<7.0,>6.0\n",
            "  Downloading coverage-6.5.0-cp39-cp39-manylinux_2_5_x86_64.manylinux1_x86_64.manylinux_2_17_x86_64.manylinux2014_x86_64.whl (212 kB)\n",
            "\u001b[2K     \u001b[90m━━━━━━━━━━━━━━━━━━━━━━━━━━━━━━━━━━━━━━\u001b[0m \u001b[32m212.8/212.8 kB\u001b[0m \u001b[31m21.9 MB/s\u001b[0m eta \u001b[36m0:00:00\u001b[0m\n",
            "\u001b[?25hCollecting py_ecc<5.0.0,>=1.4.7\n",
            "  Downloading py_ecc-4.1.0-py3-none-any.whl (41 kB)\n",
            "\u001b[2K     \u001b[90m━━━━━━━━━━━━━━━━━━━━━━━━━━━━━━━━━━━━━━━━\u001b[0m \u001b[32m41.8/41.8 kB\u001b[0m \u001b[31m4.9 MB/s\u001b[0m eta \u001b[36m0:00:00\u001b[0m\n",
            "\u001b[?25hCollecting eth_abi<3.0.0,>=2.0.0b4\n",
            "  Downloading eth_abi-2.2.0-py3-none-any.whl (28 kB)\n",
            "Collecting eth-account<0.6.0,>=0.5.6\n",
            "  Downloading eth_account-0.5.9-py3-none-any.whl (101 kB)\n",
            "\u001b[2K     \u001b[90m━━━━━━━━━━━━━━━━━━━━━━━━━━━━━━━━━━━━━━━\u001b[0m \u001b[32m101.8/101.8 kB\u001b[0m \u001b[31m8.7 MB/s\u001b[0m eta \u001b[36m0:00:00\u001b[0m\n",
            "\u001b[?25hCollecting ethereum-input-decoder>=0.2.2\n",
            "  Downloading ethereum_input_decoder-0.2.2.tar.gz (5.5 kB)\n",
            "  Preparing metadata (setup.py) ... \u001b[?25l\u001b[?25hdone\n",
            "Collecting eth-hash<0.4.0,>=0.3.1\n",
            "  Downloading eth_hash-0.3.3-py3-none-any.whl (8.9 kB)\n",
            "Collecting eth-keyfile<0.6.0,>=0.5.1\n",
            "  Downloading eth_keyfile-0.5.1-py3-none-any.whl (8.3 kB)\n",
            "Collecting eth-keys<0.4.0,>=0.2.1\n",
            "  Downloading eth_keys-0.3.4-py3-none-any.whl (21 kB)\n",
            "Collecting eth-rlp<0.3.0,>=0.1.0\n",
            "  Downloading eth_rlp-0.2.1-py3-none-any.whl (5.0 kB)\n",
            "Collecting eth-typing<3.0.0,>=2.1.0\n",
            "  Downloading eth_typing-2.3.0-py3-none-any.whl (6.2 kB)\n",
            "Collecting eth-utils<2\n",
            "  Downloading eth_utils-1.10.0-py3-none-any.whl (24 kB)\n",
            "Collecting hexbytes<0.3.0\n",
            "  Downloading hexbytes-0.2.3-py3-none-any.whl (6.4 kB)\n",
            "Requirement already satisfied: jinja2>=2.9 in /usr/local/lib/python3.9/dist-packages (from mythril) (3.1.2)\n",
            "Collecting MarkupSafe<2.1.0\n",
            "  Downloading MarkupSafe-2.0.1-cp39-cp39-manylinux_2_5_x86_64.manylinux1_x86_64.manylinux_2_12_x86_64.manylinux2010_x86_64.whl (30 kB)\n",
            "Collecting mock\n",
            "  Downloading mock-5.0.2-py3-none-any.whl (30 kB)\n",
            "Collecting mypy-extensions<1.0.0\n",
            "  Downloading mypy_extensions-0.4.4.tar.gz (4.2 kB)\n",
            "  Preparing metadata (setup.py) ... \u001b[?25l\u001b[?25hdone\n",
            "Collecting persistent>=4.2.0\n",
            "  Downloading persistent-5.0-cp39-cp39-manylinux_2_5_x86_64.manylinux1_x86_64.manylinux_2_17_x86_64.manylinux2014_x86_64.whl (230 kB)\n",
            "\u001b[2K     \u001b[90m━━━━━━━━━━━━━━━━━━━━━━━━━━━━━━━━━━━━━━━\u001b[0m \u001b[32m230.7/230.7 kB\u001b[0m \u001b[31m3.8 MB/s\u001b[0m eta \u001b[36m0:00:00\u001b[0m\n",
            "\u001b[?25hCollecting py-flags\n",
            "  Downloading py_flags-1.1.4-py3-none-any.whl (17 kB)\n",
            "Collecting py-evm==0.5.0a1\n",
            "  Downloading py_evm-0.5.0a1-py3-none-any.whl (273 kB)\n",
            "\u001b[2K     \u001b[90m━━━━━━━━━━━━━━━━━━━━━━━━━━━━━━━━━━━━━━\u001b[0m \u001b[32m273.7/273.7 kB\u001b[0m \u001b[31m28.1 MB/s\u001b[0m eta \u001b[36m0:00:00\u001b[0m\n",
            "\u001b[?25hCollecting py-solc-x\n",
            "  Downloading py_solc_x-1.1.1-py3-none-any.whl (15 kB)\n",
            "Collecting py-solc\n",
            "  Downloading py_solc-3.2.0-py3-none-any.whl (12 kB)\n",
            "Requirement already satisfied: pytest>=3.6.0 in /usr/local/lib/python3.9/dist-packages (from mythril) (7.2.2)\n",
            "Collecting pyparsing<3,>=2.0.2\n",
            "  Downloading pyparsing-2.4.7-py2.py3-none-any.whl (67 kB)\n",
            "\u001b[2K     \u001b[90m━━━━━━━━━━━━━━━━━━━━━━━━━━━━━━━━━━━━━━━━\u001b[0m \u001b[32m67.8/67.8 kB\u001b[0m \u001b[31m8.1 MB/s\u001b[0m eta \u001b[36m0:00:00\u001b[0m\n",
            "\u001b[?25hCollecting pytest-cov\n",
            "  Downloading pytest_cov-4.0.0-py3-none-any.whl (21 kB)\n",
            "Collecting pytest_mock\n",
            "  Downloading pytest_mock-3.10.0-py3-none-any.whl (9.3 kB)\n",
            "Requirement already satisfied: requests in /usr/local/lib/python3.9/dist-packages (from mythril) (2.27.1)\n",
            "Collecting rlp<3\n",
            "  Downloading rlp-2.0.1-py2.py3-none-any.whl (20 kB)\n",
            "Collecting semantic_version\n",
            "  Downloading semantic_version-2.10.0-py2.py3-none-any.whl (15 kB)\n",
            "Collecting transaction>=2.2.1\n",
            "  Downloading transaction-3.1.0-py2.py3-none-any.whl (47 kB)\n",
            "\u001b[2K     \u001b[90m━━━━━━━━━━━━━━━━━━━━━━━━━━━━━━━━━━━━━━━━\u001b[0m \u001b[32m47.3/47.3 kB\u001b[0m \u001b[31m5.8 MB/s\u001b[0m eta \u001b[36m0:00:00\u001b[0m\n",
            "\u001b[?25hCollecting typing-extensions<4,>=3.7.4\n",
            "  Downloading typing_extensions-3.10.0.2-py3-none-any.whl (26 kB)\n",
            "Collecting z3-solver>=4.8.8.0\n",
            "  Downloading z3_solver-4.12.1.0-py2.py3-none-manylinux1_x86_64.whl (56.0 MB)\n",
            "\u001b[2K     \u001b[90m━━━━━━━━━━━━━━━━━━━━━━━━━━━━━━━━━━━━━━━━\u001b[0m \u001b[32m56.0/56.0 MB\u001b[0m \u001b[31m14.9 MB/s\u001b[0m eta \u001b[36m0:00:00\u001b[0m\n",
            "\u001b[?25hRequirement already satisfied: matplotlib in /usr/local/lib/python3.9/dist-packages (from mythril) (3.7.1)\n",
            "Collecting pre-commit<2.21.0\n",
            "  Downloading pre_commit-2.20.0-py2.py3-none-any.whl (199 kB)\n",
            "\u001b[2K     \u001b[90m━━━━━━━━━━━━━━━━━━━━━━━━━━━━━━━━━━━━━━\u001b[0m \u001b[32m199.5/199.5 kB\u001b[0m \u001b[31m21.6 MB/s\u001b[0m eta \u001b[36m0:00:00\u001b[0m\n",
            "\u001b[?25hRequirement already satisfied: certifi>=2020.06.20 in /usr/local/lib/python3.9/dist-packages (from mythril) (2022.12.7)\n",
            "Collecting pyethash<1.0.0,>=0.1.27\n",
            "  Downloading pyethash-0.1.27.tar.gz (38 kB)\n",
            "  Preparing metadata (setup.py) ... \u001b[?25l\u001b[?25hdone\n",
            "Requirement already satisfied: cached-property<2,>=1.5.1 in /usr/local/lib/python3.9/dist-packages (from py-evm==0.5.0a1->mythril) (1.5.2)\n",
            "Collecting trie==2.0.0-alpha.5\n",
            "  Downloading trie-2.0.0a5-py3-none-any.whl (38 kB)\n",
            "Requirement already satisfied: lru-dict>=1.1.6 in /usr/local/lib/python3.9/dist-packages (from py-evm==0.5.0a1->mythril) (1.1.8)\n",
            "Collecting eth-bloom<2.0.0,>=1.0.3\n",
            "  Downloading eth_bloom-1.0.4-py3-none-any.whl (5.4 kB)\n",
            "Requirement already satisfied: sortedcontainers<3,>=2.1.0 in /usr/local/lib/python3.9/dist-packages (from trie==2.0.0-alpha.5->py-evm==0.5.0a1->mythril) (2.4.0)\n",
            "Requirement already satisfied: cffi>=1.3.0 in /usr/local/lib/python3.9/dist-packages (from coincurve>=13.0.0->mythril) (1.15.1)\n",
            "Collecting humanfriendly>=9.1\n",
            "  Downloading humanfriendly-10.0-py2.py3-none-any.whl (86 kB)\n",
            "\u001b[2K     \u001b[90m━━━━━━━━━━━━━━━━━━━━━━━━━━━━━━━━━━━━━━━━\u001b[0m \u001b[32m86.8/86.8 kB\u001b[0m \u001b[31m9.2 MB/s\u001b[0m eta \u001b[36m0:00:00\u001b[0m\n",
            "\u001b[?25hRequirement already satisfied: toolz>=0.8.0 in /usr/local/lib/python3.9/dist-packages (from cytoolz<0.12.0->mythril) (0.12.0)\n",
            "Collecting parsimonious<0.9.0,>=0.8.0\n",
            "  Downloading parsimonious-0.8.1.tar.gz (45 kB)\n",
            "\u001b[2K     \u001b[90m━━━━━━━━━━━━━━━━━━━━━━━━━━━━━━━━━━━━━━━━\u001b[0m \u001b[32m45.1/45.1 kB\u001b[0m \u001b[31m5.2 MB/s\u001b[0m eta \u001b[36m0:00:00\u001b[0m\n",
            "\u001b[?25h  Preparing metadata (setup.py) ... \u001b[?25l\u001b[?25hdone\n",
            "Requirement already satisfied: bitarray<3,>=1.2.1 in /usr/local/lib/python3.9/dist-packages (from eth-account<0.6.0,>=0.5.6->mythril) (2.7.3)\n",
            "Requirement already satisfied: pycryptodome<4.0.0,>=3.4.7 in /usr/local/lib/python3.9/dist-packages (from eth-keyfile<0.6.0,>=0.5.1->mythril) (3.17)\n",
            "Collecting zope.interface\n",
            "  Downloading zope.interface-6.0-cp39-cp39-manylinux_2_5_x86_64.manylinux1_x86_64.manylinux_2_17_x86_64.manylinux2014_x86_64.whl (246 kB)\n",
            "\u001b[2K     \u001b[90m━━━━━━━━━━━━━━━━━━━━━━━━━━━━━━━━━━━━━━\u001b[0m \u001b[32m246.1/246.1 kB\u001b[0m \u001b[31m25.0 MB/s\u001b[0m eta \u001b[36m0:00:00\u001b[0m\n",
            "\u001b[?25hRequirement already satisfied: toml in /usr/local/lib/python3.9/dist-packages (from pre-commit<2.21.0->mythril) (0.10.2)\n",
            "Requirement already satisfied: pyyaml>=5.1 in /usr/local/lib/python3.9/dist-packages (from pre-commit<2.21.0->mythril) (6.0)\n",
            "Collecting cfgv>=2.0.0\n",
            "  Downloading cfgv-3.3.1-py2.py3-none-any.whl (7.3 kB)\n",
            "Collecting nodeenv>=0.11.1\n",
            "  Downloading nodeenv-1.7.0-py2.py3-none-any.whl (21 kB)\n",
            "Collecting virtualenv>=20.0.8\n",
            "  Downloading virtualenv-20.22.0-py3-none-any.whl (3.2 MB)\n",
            "\u001b[2K     \u001b[90m━━━━━━━━━━━━━━━━━━━━━━━━━━━━━━━━━━━━━━━━\u001b[0m \u001b[32m3.2/3.2 MB\u001b[0m \u001b[31m54.7 MB/s\u001b[0m eta \u001b[36m0:00:00\u001b[0m\n",
            "\u001b[?25hCollecting identify>=1.0.0\n",
            "  Downloading identify-2.5.22-py2.py3-none-any.whl (98 kB)\n",
            "\u001b[2K     \u001b[90m━━━━━━━━━━━━━━━━━━━━━━━━━━━━━━━━━━━━━━━━\u001b[0m \u001b[32m98.8/98.8 kB\u001b[0m \u001b[31m10.7 MB/s\u001b[0m eta \u001b[36m0:00:00\u001b[0m\n",
            "\u001b[?25hRequirement already satisfied: pluggy<2.0,>=0.12 in /usr/local/lib/python3.9/dist-packages (from pytest>=3.6.0->mythril) (1.0.0)\n",
            "Requirement already satisfied: attrs>=19.2.0 in /usr/local/lib/python3.9/dist-packages (from pytest>=3.6.0->mythril) (23.1.0)\n",
            "Requirement already satisfied: tomli>=1.0.0 in /usr/local/lib/python3.9/dist-packages (from pytest>=3.6.0->mythril) (2.0.1)\n",
            "Requirement already satisfied: exceptiongroup>=1.0.0rc8 in /usr/local/lib/python3.9/dist-packages (from pytest>=3.6.0->mythril) (1.1.1)\n",
            "Requirement already satisfied: packaging in /usr/local/lib/python3.9/dist-packages (from pytest>=3.6.0->mythril) (23.1)\n",
            "Requirement already satisfied: iniconfig in /usr/local/lib/python3.9/dist-packages (from pytest>=3.6.0->mythril) (2.0.0)\n",
            "Requirement already satisfied: pillow>=6.2.0 in /usr/local/lib/python3.9/dist-packages (from matplotlib->mythril) (8.4.0)\n",
            "Requirement already satisfied: importlib-resources>=3.2.0 in /usr/local/lib/python3.9/dist-packages (from matplotlib->mythril) (5.12.0)\n",
            "Requirement already satisfied: numpy>=1.20 in /usr/local/lib/python3.9/dist-packages (from matplotlib->mythril) (1.22.4)\n",
            "Requirement already satisfied: contourpy>=1.0.1 in /usr/local/lib/python3.9/dist-packages (from matplotlib->mythril) (1.0.7)\n",
            "Requirement already satisfied: kiwisolver>=1.0.1 in /usr/local/lib/python3.9/dist-packages (from matplotlib->mythril) (1.4.4)\n",
            "Requirement already satisfied: cycler>=0.10 in /usr/local/lib/python3.9/dist-packages (from matplotlib->mythril) (0.11.0)\n",
            "Requirement already satisfied: fonttools>=4.22.0 in /usr/local/lib/python3.9/dist-packages (from matplotlib->mythril) (4.39.3)\n",
            "Requirement already satisfied: python-dateutil>=2.7 in /usr/local/lib/python3.9/dist-packages (from matplotlib->mythril) (2.8.2)\n",
            "Collecting dictionaries==0.0.2\n",
            "  Downloading dictionaries-0.0.2-py2.py3-none-any.whl (7.9 kB)\n",
            "Requirement already satisfied: idna<4,>=2.5 in /usr/local/lib/python3.9/dist-packages (from requests->mythril) (3.4)\n",
            "Requirement already satisfied: charset-normalizer~=2.0.0 in /usr/local/lib/python3.9/dist-packages (from requests->mythril) (2.0.12)\n",
            "Requirement already satisfied: urllib3<1.27,>=1.21.1 in /usr/local/lib/python3.9/dist-packages (from requests->mythril) (1.26.15)\n",
            "Collecting coverage[toml]>=5.2.1\n",
            "  Downloading coverage-7.2.3-cp39-cp39-manylinux_2_5_x86_64.manylinux1_x86_64.manylinux_2_17_x86_64.manylinux2014_x86_64.whl (227 kB)\n",
            "\u001b[2K     \u001b[90m━━━━━━━━━━━━━━━━━━━━━━━━━━━━━━━━━━━━━━\u001b[0m \u001b[32m227.5/227.5 kB\u001b[0m \u001b[31m19.0 MB/s\u001b[0m eta \u001b[36m0:00:00\u001b[0m\n",
            "\u001b[?25hRequirement already satisfied: pycparser in /usr/local/lib/python3.9/dist-packages (from cffi>=1.3.0->coincurve>=13.0.0->mythril) (2.21)\n",
            "  Downloading coverage-7.2.2-cp39-cp39-manylinux_2_5_x86_64.manylinux1_x86_64.manylinux_2_17_x86_64.manylinux2014_x86_64.whl (227 kB)\n",
            "\u001b[2K     \u001b[90m━━━━━━━━━━━━━━━━━━━━━━━━━━━━━━━━━━━━━━\u001b[0m \u001b[32m227.0/227.0 kB\u001b[0m \u001b[31m20.2 MB/s\u001b[0m eta \u001b[36m0:00:00\u001b[0m\n",
            "\u001b[?25h  Downloading coverage-7.2.1-cp39-cp39-manylinux_2_5_x86_64.manylinux1_x86_64.manylinux_2_17_x86_64.manylinux2014_x86_64.whl (226 kB)\n",
            "\u001b[2K     \u001b[90m━━━━━━━━━━━━━━━━━━━━━━━━━━━━━━━━━━━━━━\u001b[0m \u001b[32m226.9/226.9 kB\u001b[0m \u001b[31m19.1 MB/s\u001b[0m eta \u001b[36m0:00:00\u001b[0m\n",
            "\u001b[?25h  Downloading coverage-7.2.0-cp39-cp39-manylinux_2_5_x86_64.manylinux1_x86_64.manylinux_2_17_x86_64.manylinux2014_x86_64.whl (226 kB)\n",
            "\u001b[2K     \u001b[90m━━━━━━━━━━━━━━━━━━━━━━━━━━━━━━━━━━━━━━\u001b[0m \u001b[32m226.9/226.9 kB\u001b[0m \u001b[31m22.7 MB/s\u001b[0m eta \u001b[36m0:00:00\u001b[0m\n",
            "\u001b[?25h  Downloading coverage-7.1.0-cp39-cp39-manylinux_2_5_x86_64.manylinux1_x86_64.manylinux_2_17_x86_64.manylinux2014_x86_64.whl (226 kB)\n",
            "\u001b[2K     \u001b[90m━━━━━━━━━━━━━━━━━━━━━━━━━━━━━━━━━━━━━━\u001b[0m \u001b[32m226.2/226.2 kB\u001b[0m \u001b[31m22.4 MB/s\u001b[0m eta \u001b[36m0:00:00\u001b[0m\n",
            "\u001b[?25h  Downloading coverage-7.0.5-cp39-cp39-manylinux_2_5_x86_64.manylinux1_x86_64.manylinux_2_17_x86_64.manylinux2014_x86_64.whl (225 kB)\n",
            "\u001b[2K     \u001b[90m━━━━━━━━━━━━━━━━━━━━━━━━━━━━━━━━━━━━━━\u001b[0m \u001b[32m225.4/225.4 kB\u001b[0m \u001b[31m19.1 MB/s\u001b[0m eta \u001b[36m0:00:00\u001b[0m\n",
            "\u001b[?25h  Downloading coverage-7.0.4-cp39-cp39-manylinux_2_5_x86_64.manylinux1_x86_64.manylinux_2_17_x86_64.manylinux2014_x86_64.whl (224 kB)\n",
            "\u001b[2K     \u001b[90m━━━━━━━━━━━━━━━━━━━━━━━━━━━━━━━━━━━━━━\u001b[0m \u001b[32m224.9/224.9 kB\u001b[0m \u001b[31m20.0 MB/s\u001b[0m eta \u001b[36m0:00:00\u001b[0m\n",
            "\u001b[?25h  Downloading coverage-7.0.3-cp39-cp39-manylinux_2_5_x86_64.manylinux1_x86_64.manylinux_2_17_x86_64.manylinux2014_x86_64.whl (224 kB)\n",
            "\u001b[2K     \u001b[90m━━━━━━━━━━━━━━━━━━━━━━━━━━━━━━━━━━━━━━\u001b[0m \u001b[32m224.3/224.3 kB\u001b[0m \u001b[31m18.5 MB/s\u001b[0m eta \u001b[36m0:00:00\u001b[0m\n",
            "\u001b[?25h  Downloading coverage-7.0.2-cp39-cp39-manylinux_2_5_x86_64.manylinux1_x86_64.manylinux_2_17_x86_64.manylinux2014_x86_64.whl (223 kB)\n",
            "\u001b[2K     \u001b[90m━━━━━━━━━━━━━━━━━━━━━━━━━━━━━━━━━━━━━━\u001b[0m \u001b[32m223.9/223.9 kB\u001b[0m \u001b[31m20.9 MB/s\u001b[0m eta \u001b[36m0:00:00\u001b[0m\n",
            "\u001b[?25h  Downloading coverage-7.0.1-cp39-cp39-manylinux_2_5_x86_64.manylinux1_x86_64.manylinux_2_17_x86_64.manylinux2014_x86_64.whl (215 kB)\n",
            "\u001b[2K     \u001b[90m━━━━━━━━━━━━━━━━━━━━━━━━━━━━━━━━━━━━━━\u001b[0m \u001b[32m215.6/215.6 kB\u001b[0m \u001b[31m19.3 MB/s\u001b[0m eta \u001b[36m0:00:00\u001b[0m\n",
            "\u001b[?25h  Downloading coverage-7.0.0-cp39-cp39-manylinux_2_5_x86_64.manylinux1_x86_64.manylinux_2_17_x86_64.manylinux2014_x86_64.whl (215 kB)\n",
            "\u001b[2K     \u001b[90m━━━━━━━━━━━━━━━━━━━━━━━━━━━━━━━━━━━━━━\u001b[0m \u001b[32m215.5/215.5 kB\u001b[0m \u001b[31m19.0 MB/s\u001b[0m eta \u001b[36m0:00:00\u001b[0m\n",
            "\u001b[?25hRequirement already satisfied: zipp>=3.1.0 in /usr/local/lib/python3.9/dist-packages (from importlib-resources>=3.2.0->matplotlib->mythril) (3.15.0)\n",
            "Requirement already satisfied: setuptools in /usr/local/lib/python3.9/dist-packages (from nodeenv>=0.11.1->pre-commit<2.21.0->mythril) (67.7.1)\n",
            "Requirement already satisfied: six>=1.9.0 in /usr/local/lib/python3.9/dist-packages (from parsimonious<0.9.0,>=0.8.0->eth_abi<3.0.0,>=2.0.0b4->mythril) (1.16.0)\n",
            "Requirement already satisfied: filelock<4,>=3.11 in /usr/local/lib/python3.9/dist-packages (from virtualenv>=20.0.8->pre-commit<2.21.0->mythril) (3.11.0)\n",
            "Requirement already satisfied: platformdirs<4,>=3.2 in /usr/local/lib/python3.9/dist-packages (from virtualenv>=20.0.8->pre-commit<2.21.0->mythril) (3.2.0)\n",
            "Collecting distlib<1,>=0.3.6\n",
            "  Downloading distlib-0.3.6-py2.py3-none-any.whl (468 kB)\n",
            "\u001b[2K     \u001b[90m━━━━━━━━━━━━━━━━━━━━━━━━━━━━━━━━━━━━━━\u001b[0m \u001b[32m468.5/468.5 kB\u001b[0m \u001b[31m30.9 MB/s\u001b[0m eta \u001b[36m0:00:00\u001b[0m\n",
            "\u001b[?25hBuilding wheels for collected packages: mythril, cytoolz, ethereum-input-decoder, mypy-extensions, parsimonious, pyethash\n",
            "  Building wheel for mythril (setup.py) ... \u001b[?25l\u001b[?25hdone\n",
            "  Created wheel for mythril: filename=mythril-0.23.22-py3-none-any.whl size=4599189 sha256=54c986dff0cca5c77bed9464c3dfa2235d1030b689224b2bd65e5a7360d095e1\n",
            "  Stored in directory: /root/.cache/pip/wheels/53/83/3d/1a056b883fce9259fc46f695affd7406a7d259ca6016edd463\n",
            "  Building wheel for cytoolz (setup.py) ... \u001b[?25l\u001b[?25hdone\n",
            "  Created wheel for cytoolz: filename=cytoolz-0.11.2-cp39-cp39-linux_x86_64.whl size=1805628 sha256=2691d3fcbf8f85ad0ff5f626efd204534f9c8d88aaf00b13952653da4725ae35\n",
            "  Stored in directory: /root/.cache/pip/wheels/20/01/4d/82db586a6c6fab67f177e84588b8ce14b50081e4b1e56b1109\n",
            "  Building wheel for ethereum-input-decoder (setup.py) ... \u001b[?25l\u001b[?25hdone\n",
            "  Created wheel for ethereum-input-decoder: filename=ethereum_input_decoder-0.2.2-py3-none-any.whl size=6376 sha256=3ae1c8e75d4eb2d66506c511b1aed002c30bad8a49398ead4554a1e146a08f28\n",
            "  Stored in directory: /root/.cache/pip/wheels/e7/cb/89/295017d65a11782453e3d091b7b5be2580116b3512c2594de8\n",
            "  Building wheel for mypy-extensions (setup.py) ... \u001b[?25l\u001b[?25hdone\n",
            "  Created wheel for mypy-extensions: filename=mypy_extensions-0.4.4-py2.py3-none-any.whl size=4495 sha256=c15db33b127949a99e336099dc4aa49b27a1209451c59edcd19c8c3c4bdb723b\n",
            "  Stored in directory: /root/.cache/pip/wheels/5e/53/31/a2f6574f22c8f2d131a5ab0b5f59fa04bc9666517f214243c9\n",
            "  Building wheel for parsimonious (setup.py) ... \u001b[?25l\u001b[?25hdone\n",
            "  Created wheel for parsimonious: filename=parsimonious-0.8.1-py3-none-any.whl size=42725 sha256=3fe77b44e7ab06626cc5cb9f90a1ba373f831d66bdb4094bb77e62f1a0a52d67\n",
            "  Stored in directory: /root/.cache/pip/wheels/ae/3f/87/24298980f6c0436680b8b64caac154f542e138487ed0f90f2a\n",
            "  Building wheel for pyethash (setup.py) ... \u001b[?25l\u001b[?25hdone\n",
            "  Created wheel for pyethash: filename=pyethash-0.1.27-cp39-cp39-linux_x86_64.whl size=56462 sha256=4bbefd96d47acb34ff7678f0ba3ee0a960a307c3efae6a13f46d880881e87b55\n",
            "  Stored in directory: /root/.cache/pip/wheels/4c/18/f0/cd1732ca0b05b39f2bcdf668b335811e89e74f46e8ca19efaf\n",
            "Successfully built mythril cytoolz ethereum-input-decoder mypy-extensions parsimonious pyethash\n",
            "Installing collected packages: z3-solver, typing-extensions, pyethash, distlib, dictionaries, blake2b-py, asn1crypto, zope.interface, virtualenv, semantic_version, pyparsing, py-flags, parsimonious, nodeenv, mypy-extensions, mock, MarkupSafe, identify, humanfriendly, hexbytes, eth-typing, eth-hash, cytoolz, coverage, configparser, cfgv, transaction, pytest_mock, py-solc-x, py-solc, pre-commit, persistent, eth-utils, coloredlogs, coincurve, rlp, pytest-cov, py_ecc, eth-keys, eth-bloom, eth_abi, trie, ethereum-input-decoder, eth-rlp, eth-keyfile, py-evm, eth-account, mythril\n",
            "  Attempting uninstall: typing-extensions\n",
            "    Found existing installation: typing_extensions 4.5.0\n",
            "    Uninstalling typing_extensions-4.5.0:\n",
            "      Successfully uninstalled typing_extensions-4.5.0\n",
            "  Attempting uninstall: pyparsing\n",
            "    Found existing installation: pyparsing 3.0.9\n",
            "    Uninstalling pyparsing-3.0.9:\n",
            "      Successfully uninstalled pyparsing-3.0.9\n",
            "  Attempting uninstall: parsimonious\n",
            "    Found existing installation: parsimonious 0.9.0\n",
            "    Uninstalling parsimonious-0.9.0:\n",
            "      Successfully uninstalled parsimonious-0.9.0\n",
            "  Attempting uninstall: MarkupSafe\n",
            "    Found existing installation: MarkupSafe 2.1.2\n",
            "    Uninstalling MarkupSafe-2.1.2:\n",
            "      Successfully uninstalled MarkupSafe-2.1.2\n",
            "  Attempting uninstall: hexbytes\n",
            "    Found existing installation: hexbytes 0.3.0\n",
            "    Uninstalling hexbytes-0.3.0:\n",
            "      Successfully uninstalled hexbytes-0.3.0\n",
            "  Attempting uninstall: eth-typing\n",
            "    Found existing installation: eth-typing 3.3.0\n",
            "    Uninstalling eth-typing-3.3.0:\n",
            "      Successfully uninstalled eth-typing-3.3.0\n",
            "  Attempting uninstall: eth-hash\n",
            "    Found existing installation: eth-hash 0.5.1\n",
            "    Uninstalling eth-hash-0.5.1:\n",
            "      Successfully uninstalled eth-hash-0.5.1\n",
            "  Attempting uninstall: cytoolz\n",
            "    Found existing installation: cytoolz 0.12.1\n",
            "    Uninstalling cytoolz-0.12.1:\n",
            "      Successfully uninstalled cytoolz-0.12.1\n",
            "  Attempting uninstall: eth-utils\n",
            "    Found existing installation: eth-utils 2.1.0\n",
            "    Uninstalling eth-utils-2.1.0:\n",
            "      Successfully uninstalled eth-utils-2.1.0\n",
            "  Attempting uninstall: rlp\n",
            "    Found existing installation: rlp 3.0.0\n",
            "    Uninstalling rlp-3.0.0:\n",
            "      Successfully uninstalled rlp-3.0.0\n",
            "  Attempting uninstall: eth-keys\n",
            "    Found existing installation: eth-keys 0.4.0\n",
            "    Uninstalling eth-keys-0.4.0:\n",
            "      Successfully uninstalled eth-keys-0.4.0\n",
            "  Attempting uninstall: eth_abi\n",
            "    Found existing installation: eth-abi 4.0.0\n",
            "    Uninstalling eth-abi-4.0.0:\n",
            "      Successfully uninstalled eth-abi-4.0.0\n",
            "  Attempting uninstall: eth-rlp\n",
            "    Found existing installation: eth-rlp 0.3.0\n",
            "    Uninstalling eth-rlp-0.3.0:\n",
            "      Successfully uninstalled eth-rlp-0.3.0\n",
            "  Attempting uninstall: eth-keyfile\n",
            "    Found existing installation: eth-keyfile 0.6.1\n",
            "    Uninstalling eth-keyfile-0.6.1:\n",
            "      Successfully uninstalled eth-keyfile-0.6.1\n",
            "  Attempting uninstall: eth-account\n",
            "    Found existing installation: eth-account 0.8.0\n",
            "    Uninstalling eth-account-0.8.0:\n",
            "      Successfully uninstalled eth-account-0.8.0\n",
            "\u001b[31mERROR: pip's dependency resolver does not currently take into account all the packages that are installed. This behaviour is the source of the following dependency conflicts.\n",
            "werkzeug 2.2.3 requires MarkupSafe>=2.1.1, but you have markupsafe 2.0.1 which is incompatible.\n",
            "web3 6.2.0 requires eth-abi>=4.0.0, but you have eth-abi 2.2.0 which is incompatible.\n",
            "web3 6.2.0 requires eth-account>=0.8.0, but you have eth-account 0.5.9 which is incompatible.\n",
            "web3 6.2.0 requires eth-hash[pycryptodome]>=0.5.1, but you have eth-hash 0.3.3 which is incompatible.\n",
            "web3 6.2.0 requires eth-typing>=3.0.0, but you have eth-typing 2.3.0 which is incompatible.\n",
            "web3 6.2.0 requires eth-utils>=2.1.0, but you have eth-utils 1.10.0 which is incompatible.\n",
            "sqlalchemy 2.0.9 requires typing-extensions>=4.2.0, but you have typing-extensions 3.10.0.2 which is incompatible.\n",
            "pydantic 1.10.7 requires typing-extensions>=4.2.0, but you have typing-extensions 3.10.0.2 which is incompatible.\n",
            "polars 0.17.3 requires typing_extensions>=4.0.1; python_version < \"3.11\", but you have typing-extensions 3.10.0.2 which is incompatible.\n",
            "librosa 0.10.0.post2 requires typing-extensions>=4.1.1, but you have typing-extensions 3.10.0.2 which is incompatible.\n",
            "flax 0.6.8 requires typing-extensions>=4.1.1, but you have typing-extensions 3.10.0.2 which is incompatible.\n",
            "chex 0.1.7 requires typing-extensions>=4.2.0; python_version < \"3.11\", but you have typing-extensions 3.10.0.2 which is incompatible.\n",
            "arviz 0.15.1 requires typing-extensions>=4.1.0, but you have typing-extensions 3.10.0.2 which is incompatible.\u001b[0m\u001b[31m\n",
            "\u001b[0mSuccessfully installed MarkupSafe-2.0.1 asn1crypto-1.5.1 blake2b-py-0.1.4 cfgv-3.3.1 coincurve-18.0.0 coloredlogs-15.0.1 configparser-5.3.0 coverage-6.5.0 cytoolz-0.11.2 dictionaries-0.0.2 distlib-0.3.6 eth-account-0.5.9 eth-bloom-1.0.4 eth-hash-0.3.3 eth-keyfile-0.5.1 eth-keys-0.3.4 eth-rlp-0.2.1 eth-typing-2.3.0 eth-utils-1.10.0 eth_abi-2.2.0 ethereum-input-decoder-0.2.2 hexbytes-0.2.3 humanfriendly-10.0 identify-2.5.22 mock-5.0.2 mypy-extensions-0.4.4 mythril-0.23.22 nodeenv-1.7.0 parsimonious-0.8.1 persistent-5.0 pre-commit-2.20.0 py-evm-0.5.0a1 py-flags-1.1.4 py-solc-3.2.0 py-solc-x-1.1.1 py_ecc-4.1.0 pyethash-0.1.27 pyparsing-2.4.7 pytest-cov-4.0.0 pytest_mock-3.10.0 rlp-2.0.1 semantic_version-2.10.0 transaction-3.1.0 trie-2.0.0a5 typing-extensions-3.10.0.2 virtualenv-20.22.0 z3-solver-4.12.1.0 zope.interface-6.0\n"
          ]
        }
      ],
      "source": [
        "!pip install mythril"
      ]
    },
    {
      "cell_type": "code",
      "source": [
        "!myth analyze safeMath.sol"
      ],
      "metadata": {
        "colab": {
          "base_uri": "https://localhost:8080/"
        },
        "id": "4PemYg7FJrxt",
        "outputId": "93c0f7c6-a6eb-4c28-aa8c-ce8bfbf84d1c"
      },
      "execution_count": 12,
      "outputs": [
        {
          "output_type": "stream",
          "name": "stdout",
          "text": [
            "Traceback (most recent call last):\n",
            "  File \"/usr/local/bin/myth\", line 5, in <module>\n",
            "    from mythril.interfaces.cli import main\n",
            "  File \"/usr/local/lib/python3.9/dist-packages/mythril/__init__.py\", line 8, in <module>\n",
            "    from mythril.plugin.loader import MythrilPluginLoader\n",
            "  File \"/usr/local/lib/python3.9/dist-packages/mythril/plugin/__init__.py\", line 1, in <module>\n",
            "    from mythril.plugin.interface import MythrilPlugin, MythrilCLIPlugin\n",
            "  File \"/usr/local/lib/python3.9/dist-packages/mythril/plugin/interface.py\", line 2, in <module>\n",
            "    from mythril.laser.plugin.builder import PluginBuilder as LaserPluginBuilder\n",
            "  File \"/usr/local/lib/python3.9/dist-packages/mythril/laser/plugin/builder.py\", line 1, in <module>\n",
            "    from mythril.laser.plugin.interface import LaserPlugin\n",
            "  File \"/usr/local/lib/python3.9/dist-packages/mythril/laser/plugin/interface.py\", line 1, in <module>\n",
            "    from mythril.laser.ethereum.svm import LaserEVM\n",
            "  File \"/usr/local/lib/python3.9/dist-packages/mythril/laser/ethereum/svm.py\", line 10, in <module>\n",
            "    from mythril.analysis.potential_issues import check_potential_issues\n",
            "  File \"/usr/local/lib/python3.9/dist-packages/mythril/analysis/potential_issues.py\", line 1, in <module>\n",
            "    from mythril.analysis.report import Issue\n",
            "  File \"/usr/local/lib/python3.9/dist-packages/mythril/analysis/report.py\", line 6, in <module>\n",
            "    from eth_abi import decode_abi\n",
            "ImportError: cannot import name 'decode_abi' from 'eth_abi' (/usr/local/lib/python3.9/dist-packages/eth_abi/__init__.py)\n"
          ]
        }
      ]
    },
    {
      "cell_type": "code",
      "source": [
        "!myth analyze test_type1.sol"
      ],
      "metadata": {
        "colab": {
          "base_uri": "https://localhost:8080/"
        },
        "id": "oFHRhSPPvl6j",
        "outputId": "9a5c3cf9-8ad1-4b19-c389-4f9663387617"
      },
      "execution_count": 9,
      "outputs": [
        {
          "output_type": "stream",
          "name": "stdout",
          "text": [
            "Traceback (most recent call last):\n",
            "  File \"/usr/local/bin/myth\", line 5, in <module>\n",
            "    from mythril.interfaces.cli import main\n",
            "  File \"/usr/local/lib/python3.9/dist-packages/mythril/__init__.py\", line 8, in <module>\n",
            "    from mythril.plugin.loader import MythrilPluginLoader\n",
            "  File \"/usr/local/lib/python3.9/dist-packages/mythril/plugin/__init__.py\", line 1, in <module>\n",
            "    from mythril.plugin.interface import MythrilPlugin, MythrilCLIPlugin\n",
            "  File \"/usr/local/lib/python3.9/dist-packages/mythril/plugin/interface.py\", line 2, in <module>\n",
            "    from mythril.laser.plugin.builder import PluginBuilder as LaserPluginBuilder\n",
            "  File \"/usr/local/lib/python3.9/dist-packages/mythril/laser/plugin/builder.py\", line 1, in <module>\n",
            "    from mythril.laser.plugin.interface import LaserPlugin\n",
            "  File \"/usr/local/lib/python3.9/dist-packages/mythril/laser/plugin/interface.py\", line 1, in <module>\n",
            "    from mythril.laser.ethereum.svm import LaserEVM\n",
            "  File \"/usr/local/lib/python3.9/dist-packages/mythril/laser/ethereum/svm.py\", line 10, in <module>\n",
            "    from mythril.analysis.potential_issues import check_potential_issues\n",
            "  File \"/usr/local/lib/python3.9/dist-packages/mythril/analysis/potential_issues.py\", line 1, in <module>\n",
            "    from mythril.analysis.report import Issue\n",
            "  File \"/usr/local/lib/python3.9/dist-packages/mythril/analysis/report.py\", line 6, in <module>\n",
            "    from eth_abi import decode_abi\n",
            "ImportError: cannot import name 'decode_abi' from 'eth_abi' (/usr/local/lib/python3.9/dist-packages/eth_abi/__init__.py)\n"
          ]
        }
      ]
    },
    {
      "cell_type": "markdown",
      "source": [
        "## Securify Analysis\n",
        "It is a tool that performs static analysis on Ethereum smart contracts to detect vulnerabilities such as reentrancy, uninitialized storage pointers, and more."
      ],
      "metadata": {
        "id": "Lta4aWfSxly0"
      }
    },
    {
      "cell_type": "code",
      "source": [
        "# !apt-get install -y openjdk-8-jdk-headless\n",
        "# !git clone https://github.com/eth-sri/securify.git\n",
        "# %cd /content/securify\n",
        "# !pip install -U -r /content/securify/requirements.txt"
      ],
      "metadata": {
        "colab": {
          "base_uri": "https://localhost:8080/"
        },
        "id": "wOxjnjhwvwA8",
        "outputId": "faa7366c-9e7c-40a1-ce24-9f860ce86a0e"
      },
      "execution_count": null,
      "outputs": [
        {
          "output_type": "stream",
          "name": "stdout",
          "text": [
            "Reading package lists... Done\n",
            "Building dependency tree       \n",
            "Reading state information... Done\n",
            "openjdk-8-jdk-headless is already the newest version (8u362-ga-0ubuntu1~20.04.1).\n",
            "0 upgraded, 0 newly installed, 0 to remove and 35 not upgraded.\n",
            "fatal: destination path 'securify' already exists and is not an empty directory.\n",
            "/content/securify\n",
            "Looking in indexes: https://pypi.org/simple, https://us-python.pkg.dev/colab-wheels/public/simple/\n",
            "Requirement already satisfied: py-solc-x>=0.3 in /usr/local/lib/python3.9/dist-packages (from -r requirements.txt (line 1)) (1.1.1)\n",
            "Requirement already satisfied: psutil in /usr/local/lib/python3.9/dist-packages (from -r requirements.txt (line 2)) (5.9.5)\n",
            "Requirement already satisfied: semantic-version<3,>=2.8.1 in /usr/local/lib/python3.9/dist-packages (from py-solc-x>=0.3->-r requirements.txt (line 1)) (2.10.0)\n",
            "Requirement already satisfied: requests<3,>=2.19.0 in /usr/local/lib/python3.9/dist-packages (from py-solc-x>=0.3->-r requirements.txt (line 1)) (2.27.1)\n",
            "Requirement already satisfied: urllib3<1.27,>=1.21.1 in /usr/local/lib/python3.9/dist-packages (from requests<3,>=2.19.0->py-solc-x>=0.3->-r requirements.txt (line 1)) (1.26.15)\n",
            "Requirement already satisfied: charset-normalizer~=2.0.0 in /usr/local/lib/python3.9/dist-packages (from requests<3,>=2.19.0->py-solc-x>=0.3->-r requirements.txt (line 1)) (2.0.12)\n",
            "Requirement already satisfied: certifi>=2017.4.17 in /usr/local/lib/python3.9/dist-packages (from requests<3,>=2.19.0->py-solc-x>=0.3->-r requirements.txt (line 1)) (2022.12.7)\n",
            "Requirement already satisfied: idna<4,>=2.5 in /usr/local/lib/python3.9/dist-packages (from requests<3,>=2.19.0->py-solc-x>=0.3->-r requirements.txt (line 1)) (3.4)\n"
          ]
        }
      ]
    },
    {
      "cell_type": "code",
      "source": [
        "# !./build_souffle.sh\n",
        "# !./gradlew tasks"
      ],
      "metadata": {
        "colab": {
          "base_uri": "https://localhost:8080/"
        },
        "id": "opnGHDYE4jq3",
        "outputId": "61482c49-7bf1-44d5-9377-63e4ad028fa2"
      },
      "execution_count": null,
      "outputs": [
        {
          "output_type": "stream",
          "name": "stdout",
          "text": [
            "\u001b[m\n",
            "\n",
            "\u001b[1A\u001b[1m> Connecting to Daemon\u001b[m\u001b[22D\u001b[1B\u001b[2A\u001b[1m<\u001b[0;32;1;0;39;1m-------------> 0% INITIALIZING [0s]\u001b[m\u001b[36D\u001b[1B\u001b[1m> Evaluating settings > Compiling /content/securify/settings.gradle into local compilation cache > Compiling settings file '/content/securify/settings.gradle' to cross build script cache\u001b[m\u001b[186D\u001b[1B\u001b[2A\u001b[1m<\u001b[0;32;1;0;39;1m-------------> 0% INITIALIZING [0s]\u001b[m\u001b[36D\u001b[1B\u001b[1m> Evaluating settings > Compiling /content/securify/settings.gradle into local compilation cache > Compiling settings file '/content/securify/settings.gradle' to cross build script cache\u001b[m\u001b[186D\u001b[1B\u001b[2A\u001b[1m<\u001b[0;32;1;0;39;1m-------------> 0% INITIALIZING [0s]\u001b[m\u001b[36D\u001b[1B\u001b[1m> Evaluating settings > Compiling /content/securify/settings.gradle into local compilation cache > Compiling settings file '/content/securify/settings.gradle' to cross build script cache\u001b[m\u001b[186D\u001b[1B\u001b[2A\u001b[1m<\u001b[0;32;1;0;39;1m-------------> 0% INITIALIZING [0s]\u001b[m\u001b[36D\u001b[1B\u001b[1m> Evaluating settings > Compiling /content/securify/settings.gradle into local compilation cache > Compiling settings file '/content/securify/settings.gradle' to cross build script cache\u001b[m\u001b[186D\u001b[1B\u001b[2A\u001b[1m<\u001b[0;32;1;0;39;1m-------------> 0% INITIALIZING [0s]\u001b[m\u001b[36D\u001b[1B\u001b[1m> Evaluating settings > Compiling /content/securify/settings.gradle into local compilation cache > Compiling settings file '/content/securify/settings.gradle' to cross build script cache\u001b[m\u001b[186D\u001b[1B\u001b[2A\u001b[1m<\u001b[0;32;1;0;39;1m-------------> 0% INITIALIZING [0s]\u001b[m\u001b[36D\u001b[1B\u001b[1m> Evaluating settings\u001b[m\u001b[0K\u001b[21D\u001b[1B\u001b[2A\u001b[1m<\u001b[0;32;1;0;39;1m-------------> 0% CONFIGURING [0s]\u001b[m\u001b[0K\u001b[35D\u001b[1B\u001b[1m> Loading projects\u001b[m\u001b[0K\u001b[18D\u001b[1B\u001b[2A\u001b[1m<\u001b[0;32;1;0;39;1m-------------> 0% CONFIGURING [0s]\u001b[m\u001b[35D\u001b[1B\u001b[1m> root project > Compiling /content/securify/build.gradle into local compilation cache\u001b[m\u001b[86D\u001b[1B\u001b[2A\u001b[1m<\u001b[0;32;1;0;39;1m-------------> 0% CONFIGURING [0s]\u001b[m\u001b[35D\u001b[1B\u001b[1m> root project > Compiling /content/securify/build.gradle into local compilation cache > Compiling build file '/content/securify/build.gradle' to cross build script cache\u001b[m\u001b[170D\u001b[1B\u001b[2A\u001b[1m<\u001b[0;32;1;0;39;1m-------------> 0% CONFIGURING [0s]\u001b[m\u001b[35D\u001b[1B\u001b[1m> root project > Compiling /content/securify/build.gradle into local compilation cache\u001b[m\u001b[0K\u001b[86D\u001b[1B\u001b[2A\u001b[1m<\u001b[0;32;1;0;39;1m-------------> 0% CONFIGURING [1s]\u001b[m\u001b[35D\u001b[1B\u001b[1m> root project\u001b[m\u001b[0K\u001b[14D\u001b[1B\u001b[2A\u001b[1m<\u001b[0;32;1;0;39;1m-------------> 0% CONFIGURING [1s]\u001b[m\u001b[35D\u001b[1B\u001b[1m> root project\u001b[m\u001b[14D\u001b[1B\u001b[2A\u001b[1m<\u001b[0;32;1;0;39;1m-------------> 0% CONFIGURING [1s]\u001b[m\u001b[35D\u001b[1B\u001b[1m> root project\u001b[m\u001b[14D\u001b[1B\u001b[2A\u001b[1m<\u001b[0;32;1;0;39;1m-------------> 0% CONFIGURING [1s]\u001b[m\u001b[35D\u001b[1B\u001b[1m> root project\u001b[m\u001b[14D\u001b[1B\u001b[2A\u001b[1m<\u001b[0;32;1;0;39;1m-------------> 0% CONFIGURING [1s]\u001b[m\u001b[35D\u001b[1B\u001b[1m> root project\u001b[m\u001b[14D\u001b[1B\u001b[2A\u001b[1m<\u001b[0;32;1;0;39;1m-------------> 0% CONFIGURING [1s]\u001b[m\u001b[35D\u001b[1B\u001b[1m> root project\u001b[m\u001b[14D\u001b[1B\u001b[2A\u001b[1m<\u001b[0;32;1;0;39;1m-------------> 0% CONFIGURING [1s]\u001b[m\u001b[35D\u001b[1B\u001b[1m> root project\u001b[m\u001b[14D\u001b[1B\u001b[2A\u001b[1m<\u001b[0;32;1;0;39;1m-------------> 0% CONFIGURING [1s]\u001b[m\u001b[35D\u001b[1B\u001b[1m> root project\u001b[m\u001b[14D\u001b[1B\u001b[2A\u001b[1m<\u001b[0;32;1;0;39;1m-------------> 0% CONFIGURING [1s]\u001b[m\u001b[35D\u001b[1B\u001b[1m> root project\u001b[m\u001b[14D\u001b[1B\u001b[2A\u001b[1m<\u001b[0;32;1;0;39;1m-------------> 0% CONFIGURING [1s]\u001b[m\u001b[35D\u001b[1B\u001b[1m> root project\u001b[m\u001b[14D\u001b[1B\u001b[2A\u001b[1m<\u001b[0;32;1;0;39;1m-------------> 0% CONFIGURING [2s]\u001b[m\u001b[35D\u001b[1B\u001b[1m> root project\u001b[m\u001b[14D\u001b[1B\u001b[2A\u001b[1m<\u001b[0;32;1;0;39;1m-------------> 0% CONFIGURING [2s]\u001b[m\u001b[35D\u001b[1B\u001b[1m> root project\u001b[m\u001b[14D\u001b[1B\u001b[2A\u001b[1m<\u001b[0;32;1;0;39;1m-------------> 0% CONFIGURING [2s]\u001b[m\u001b[35D\u001b[1B\u001b[1m> root project\u001b[m\u001b[14D\u001b[1B\u001b[2A\u001b[1m<\u001b[0;32;1;0;39;1m-------------> 0% CONFIGURING [2s]\u001b[m\u001b[35D\u001b[1B\u001b[1m> root project\u001b[m\u001b[14D\u001b[1B\u001b[2A\u001b[1m<\u001b[0;32;1;0;39;1m-------------> 0% CONFIGURING [2s]\u001b[m\u001b[35D\u001b[1B\u001b[1m> root project\u001b[m\u001b[14D\u001b[1B\u001b[2A\u001b[1m<\u001b[0;32;1;0;39;1m-------------> 0% CONFIGURING [2s]\u001b[m\u001b[35D\u001b[1B\u001b[1m> root project\u001b[m\u001b[14D\u001b[1B\u001b[2A\u001b[1m<\u001b[0;32;1;0;39;1m-------------> 0% CONFIGURING [2s]\u001b[m\u001b[35D\u001b[1B\u001b[1m> root project\u001b[m\u001b[14D\u001b[1B\u001b[2A\u001b[1m<\u001b[0;32;1;0;39;1m-------------> 0% CONFIGURING [2s]\u001b[m\u001b[35D\u001b[1B\u001b[1m> root project\u001b[m\u001b[14D\u001b[1B\u001b[2A\u001b[1m<\u001b[0;32;1;0;39;1m-------------> 0% CONFIGURING [2s]\u001b[m\u001b[35D\u001b[1B\u001b[1m> root project\u001b[m\u001b[14D\u001b[1B\u001b[2A\u001b[1m<\u001b[0;32;1;0;39;1m-------------> 0% CONFIGURING [2s]\u001b[m\u001b[35D\u001b[1B\u001b[1m> root project\u001b[m\u001b[14D\u001b[1B\u001b[2A\u001b[1m<\u001b[0;32;1;0;39;1m-------------> 0% CONFIGURING [3s]\u001b[m\u001b[35D\u001b[1B\u001b[1m> root project\u001b[m\u001b[14D\u001b[1B\u001b[2A\u001b[1m<\u001b[0;32;1;0;39;1m-------------> 0% CONFIGURING [3s]\u001b[m\u001b[35D\u001b[1B\u001b[1m> root project\u001b[m\u001b[14D\u001b[1B\u001b[2A\u001b[1m<\u001b[0;32;1m=============\u001b[0;39;1m> 100% CONFIGURING [3s]\u001b[m\u001b[37D\u001b[1B> IDLE\u001b[0K\u001b[6D\u001b[1B\u001b[2A\u001b[1m<\u001b[0;32;1;0;39;1m-------------> 0% EXECUTING [3s]\u001b[m\u001b[0K\u001b[33D\u001b[1B\u001b[1m> :tasks\u001b[m\u001b[8D\u001b[1B\u001b[2A\u001b[1m<\u001b[0;32;1;0;39;1m-------------> 0% EXECUTING [3s]\u001b[m\u001b[33D\u001b[1B\u001b[1m> :tasks\u001b[m\u001b[8D\u001b[1B\u001b[2A\u001b[1m<\u001b[0;32;1;0;39;1m-------------> 0% EXECUTING [3s]\u001b[m\u001b[33D\u001b[1B\u001b[1m> :tasks\u001b[m\u001b[8D\u001b[1B\u001b[2A\u001b[1m<\u001b[0;32;1;0;39;1m-------------> 0% EXECUTING [3s]\u001b[m\u001b[33D\u001b[1B\u001b[1m> :tasks\u001b[m\u001b[8D\u001b[1B\u001b[2A\u001b[1m<\u001b[0;32;1;0;39;1m-------------> 0% EXECUTING [3s]\u001b[m\u001b[33D\u001b[1B\u001b[1m> :tasks\u001b[m\u001b[8D\u001b[1B\u001b[2A\u001b[0K\n",
            "\u001b[1m> Task :tasks\u001b[m\u001b[0K\n",
            "\n",
            "\u001b[1m------------------------------------------------------------\u001b[m\n",
            "\u001b[1mAll tasks runnable from root project\u001b[m\n",
            "\u001b[1m------------------------------------------------------------\u001b[m\n",
            "\n",
            "\u001b[1mBuild tasks\u001b[m\n",
            "\u001b[1m-----------\u001b[m\n",
            "\u001b[32massemble\u001b[39m\u001b[33m - Assembles the outputs of this project.\u001b[39m\n",
            "\u001b[32mbuild\u001b[39m\u001b[33m - Assembles and tests this project.\u001b[39m\n",
            "\u001b[32mbuildDependents\u001b[39m\u001b[33m - Assembles and tests this project and all projects that depend on it.\u001b[39m\n",
            "\u001b[32mbuildNeeded\u001b[39m\u001b[33m - Assembles and tests this project and all projects it depends on.\u001b[39m\n",
            "\u001b[32mclasses\u001b[39m\u001b[33m - Assembles main classes.\u001b[39m\n",
            "\u001b[32mclean\u001b[39m\u001b[33m - Deletes the build directory.\u001b[39m\n",
            "\u001b[32mjar\u001b[39m\u001b[33m - Assembles a jar archive containing the main classes.\u001b[39m\n",
            "\u001b[32mtestClasses\u001b[39m\u001b[33m - Assembles test classes.\u001b[39m\n",
            "\n",
            "\u001b[1mBuild Setup tasks\u001b[m\n",
            "\u001b[1m-----------------\u001b[m\n",
            "\u001b[32minit\u001b[39m\u001b[33m - Initializes a new Gradle build.\u001b[39m\n",
            "\u001b[32mwrapper\u001b[39m\u001b[33m - Generates Gradle wrapper files.\u001b[39m\n",
            "\n",
            "\u001b[1mDocumentation tasks\u001b[m\n",
            "\u001b[1m-------------------\u001b[m\n",
            "\u001b[32mjavadoc\u001b[39m\u001b[33m - Generates Javadoc API documentation for the main source code.\u001b[39m\n",
            "\n",
            "\u001b[1mHelp tasks\u001b[m\n",
            "\u001b[1m----------\u001b[m\n",
            "\u001b[32mbuildEnvironment\u001b[39m\u001b[33m - Displays all buildscript dependencies declared in root project 'securify'.\u001b[39m\n",
            "\u001b[32mcomponents\u001b[39m\u001b[33m - Displays the components produced by root project 'securify'. [incubating]\u001b[39m\n",
            "\u001b[32mdependencies\u001b[39m\u001b[33m - Displays all dependencies declared in root project 'securify'.\u001b[39m\n",
            "\u001b[32mdependencyInsight\u001b[39m\u001b[33m - Displays the insight into a specific dependency in root project 'securify'.\u001b[39m\n",
            "\u001b[32mdependentComponents\u001b[39m\u001b[33m - Displays the dependent components of components in root project 'securify'. [incubating]\u001b[39m\n",
            "\u001b[32mhelp\u001b[39m\u001b[33m - Displays a help message.\u001b[39m\n",
            "\u001b[32mmodel\u001b[39m\u001b[33m - Displays the configuration model of root project 'securify'. [incubating]\u001b[39m\n",
            "\u001b[32mprojects\u001b[39m\u001b[33m - Displays the sub-projects of root project 'securify'.\u001b[39m\n",
            "\u001b[32mproperties\u001b[39m\u001b[33m - Displays the properties of root project 'securify'.\u001b[39m\n",
            "\u001b[32mtasks\u001b[39m\u001b[33m - Displays the tasks runnable from root project 'securify'.\u001b[39m\n",
            "\n",
            "\u001b[1mIDE tasks\u001b[m\n",
            "\u001b[1m---------\u001b[m\n",
            "\u001b[32mcleanIdea\u001b[39m\u001b[33m - Cleans IDEA project files (IML, IPR)\u001b[39m\n",
            "\u001b[32midea\u001b[39m\u001b[33m - Generates IDEA project files (IML, IPR, IWS)\u001b[39m\n",
            "\u001b[32mopenIdea\u001b[39m\u001b[33m - Opens the IDEA project\u001b[39m\n",
            "\n",
            "\u001b[1mVerification tasks\u001b[m\n",
            "\u001b[1m------------------\u001b[m\n",
            "\u001b[32mcheck\u001b[39m\u001b[33m - Runs all checks.\u001b[39m\n",
            "\u001b[32mtest\u001b[39m\u001b[33m - Runs the unit tests.\u001b[39m\n",
            "\n",
            "\u001b[1mRules\u001b[m\n",
            "\u001b[1m-----\u001b[m\n",
            "Pattern: clean<TaskName>: Cleans the output files of a task.\n",
            "Pattern: build<ConfigurationName>: Assembles the artifacts of a configuration.\n",
            "Pattern: upload<ConfigurationName>: Assembles and uploads the artifacts belonging to a configuration.\n",
            "\n",
            "To see all tasks and more detail, run \u001b[1mgradlew\u001b[m\u001b[1m \u001b[m\u001b[1mtasks --all\u001b[m\n",
            "\n",
            "To see more detail about a task, run \u001b[1mgradlew\u001b[m\u001b[1m \u001b[m\u001b[1mhelp --task <task>\u001b[m\n",
            "\n",
            "\u001b[32;1mBUILD SUCCESSFUL\u001b[0;39m in 4s\n",
            "1 actionable task: 1 executed\n",
            "\u001b[0K\n",
            "\u001b[0K\n",
            "\u001b[2A\u001b[1m<\u001b[0;32;1;0;39;1m-------------> 0% WAITING\u001b[m\u001b[26D\u001b[1B\u001b[1m> :tasks\u001b[m\u001b[8D\u001b[1B\u001b[2A\u001b[2K\u001b[1B\u001b[2K\u001b[1A\u001b[1m<\u001b[0;32;1;0;39;1m-------------> 0% WAITING\u001b[m\u001b[26D\u001b[1B> IDLE\u001b[6D\u001b[1B\u001b[m"
          ]
        }
      ]
    }
  ],
  "metadata": {
    "colab": {
      "provenance": [],
      "collapsed_sections": [
        "9EjoMp5c7g4-",
        "ZXg3rFZH80dU",
        "zlI4_OnFuvIw"
      ]
    },
    "kernelspec": {
      "display_name": "Python 3",
      "name": "python3"
    },
    "language_info": {
      "name": "python"
    }
  },
  "nbformat": 4,
  "nbformat_minor": 0
}
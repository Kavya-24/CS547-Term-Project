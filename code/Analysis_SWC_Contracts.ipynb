{
  "nbformat": 4,
  "nbformat_minor": 0,
  "metadata": {
    "colab": {
      "provenance": []
    },
    "kernelspec": {
      "name": "python3",
      "display_name": "Python 3"
    },
    "language_info": {
      "name": "python"
    }
  },
  "cells": [
    {
      "cell_type": "markdown",
      "source": [
        "##Preprocess dataset\n"
      ],
      "metadata": {
        "id": "uofy7WN3yK-D"
      }
    },
    {
      "cell_type": "code",
      "source": [
        "import os\n",
        "import requests\n",
        "\n",
        "api_url = \"https://api.github.com/repos/{owner}/{repo}/contents/{path}\"\n",
        "owner = \"smartbugs\"\n",
        "repo = \"smartbugs-curated\""
      ],
      "metadata": {
        "id": "YEnzEk3uiRRd"
      },
      "execution_count": null,
      "outputs": []
    },
    {
      "cell_type": "code",
      "source": [
        "def download_content(node):\n",
        "  content_url = node[\"download_url\"]\n",
        "  content_response = requests.get(content_url)\n",
        "  file_path = f\"downloaded_files/{node['path']}\"\n",
        "\n",
        "  # Check if the directory exists, and create it if it doesn't\n",
        "  directory = os.path.dirname(file_path)\n",
        "  if not os.path.exists(directory):\n",
        "    os.makedirs(directory)\n",
        "  \n",
        "  if content_response.status_code == 200:\n",
        "      with open(f\"downloaded_files/{node['path']}\", \"wb\") as f:\n",
        "          f.write(content_response.content)\n",
        "  else:\n",
        "      print(f\"Error downloading {node['path']}: {content_response.status_code}\")"
      ],
      "metadata": {
        "id": "-2t2z093jKYZ"
      },
      "execution_count": null,
      "outputs": []
    },
    {
      "cell_type": "code",
      "source": [
        "def traverse_tree(node):\n",
        "\n",
        "  if node['type'] == 'dir':\n",
        "    call_response(node['path'])\n",
        "  else:\n",
        "    if node[\"name\"].endswith(\".sol\"):\n",
        "      download_content(node)\n",
        "\n",
        "  "
      ],
      "metadata": {
        "id": "XUbfFh1VibTM"
      },
      "execution_count": null,
      "outputs": []
    },
    {
      "cell_type": "code",
      "source": [
        "def call_response(folder_path):\n",
        "\n",
        "  url = api_url.format(owner=owner, repo=repo, path=folder_path)\n",
        "  response = requests.get(url)\n",
        "\n",
        "  if response.status_code == 200:\n",
        "    os.makedirs(\"downloaded_files\", exist_ok=True)\n",
        "    for node in response.json():\n",
        "      traverse_tree(node)\n",
        "  else:\n",
        "    print(f\"Error listing files in folder: {response.status_code}\")\n",
        "\n",
        "  return\n"
      ],
      "metadata": {
        "id": "Fd4WKVikiWlP"
      },
      "execution_count": null,
      "outputs": []
    },
    {
      "cell_type": "code",
      "source": [
        "call_response(\"dataset\")"
      ],
      "metadata": {
        "id": "ukmO-PtAiAGa"
      },
      "execution_count": null,
      "outputs": []
    },
    {
      "cell_type": "code",
      "source": [
        "folder_path = 'downloaded_files/dataset'\n",
        "number_of_contracts = 0\n",
        "contract_mapping = {}\n",
        "contract_paths = []\n",
        "\n",
        "for control in os.listdir(folder_path):\n",
        "  control_folder_path = os.path.join(folder_path, control)\n",
        "  \n",
        "  for vulnerable_contract in os.listdir(control_folder_path):\n",
        "    contract_path = os.path.join(control_folder_path, vulnerable_contract)\n",
        "    contract_paths.append(contract_path)\n",
        "    number_of_contracts += 1\n",
        "    contract_mapping[vulnerable_contract] = control\n",
        "\n",
        "print('Number of contracts: ' + str(number_of_contracts))"
      ],
      "metadata": {
        "colab": {
          "base_uri": "https://localhost:8080/"
        },
        "id": "dQ4OqSXomyfs",
        "outputId": "8660b67f-af5e-417d-c67b-a54276d4eecc"
      },
      "execution_count": null,
      "outputs": [
        {
          "output_type": "stream",
          "name": "stdout",
          "text": [
            "Number of contracts: 143\n"
          ]
        }
      ]
    },
    {
      "cell_type": "markdown",
      "source": [
        "## Slither\n",
        "Run and test out slither on 143 contracts"
      ],
      "metadata": {
        "id": "WijNjfWWq-XO"
      }
    },
    {
      "cell_type": "code",
      "source": [
        "#set up slither\n",
        "!pip install slither-analyzer\n",
        "!pip install solc-select\n",
        "!solc-select install 0.4.24\n",
        "import os\n",
        "import subprocess\n",
        "os.environ['SOLC_VERSION'] = '0.4.24'"
      ],
      "metadata": {
        "colab": {
          "base_uri": "https://localhost:8080/"
        },
        "id": "wfswCshjmzFD",
        "outputId": "70d1edcb-6d26-4de1-a661-4c5313c3f6ad"
      },
      "execution_count": null,
      "outputs": [
        {
          "output_type": "stream",
          "name": "stdout",
          "text": [
            "Looking in indexes: https://pypi.org/simple, https://us-python.pkg.dev/colab-wheels/public/simple/\n",
            "Collecting slither-analyzer\n",
            "  Downloading slither_analyzer-0.9.3-py3-none-any.whl (655 kB)\n",
            "\u001b[2K     \u001b[90m━━━━━━━━━━━━━━━━━━━━━━━━━━━━━━━━━━━━━━\u001b[0m \u001b[32m655.6/655.6 kB\u001b[0m \u001b[31m20.2 MB/s\u001b[0m eta \u001b[36m0:00:00\u001b[0m\n",
            "\u001b[?25hCollecting web3>=6.0.0\n",
            "  Downloading web3-6.2.0-py3-none-any.whl (571 kB)\n",
            "\u001b[2K     \u001b[90m━━━━━━━━━━━━━━━━━━━━━━━━━━━━━━━━━━━━━━\u001b[0m \u001b[32m572.0/572.0 kB\u001b[0m \u001b[31m35.3 MB/s\u001b[0m eta \u001b[36m0:00:00\u001b[0m\n",
            "\u001b[?25hCollecting crytic-compile<0.4.0,>=0.3.1\n",
            "  Downloading crytic_compile-0.3.1-py3-none-any.whl (92 kB)\n",
            "\u001b[2K     \u001b[90m━━━━━━━━━━━━━━━━━━━━━━━━━━━━━━━━━━━━━━━━\u001b[0m \u001b[32m92.5/92.5 kB\u001b[0m \u001b[31m9.4 MB/s\u001b[0m eta \u001b[36m0:00:00\u001b[0m\n",
            "\u001b[?25hRequirement already satisfied: prettytable>=0.7.2 in /usr/local/lib/python3.9/dist-packages (from slither-analyzer) (0.7.2)\n",
            "Requirement already satisfied: packaging in /usr/local/lib/python3.9/dist-packages (from slither-analyzer) (23.1)\n",
            "Collecting pycryptodome>=3.4.6\n",
            "  Downloading pycryptodome-3.17-cp35-abi3-manylinux_2_17_x86_64.manylinux2014_x86_64.whl (2.1 MB)\n",
            "\u001b[2K     \u001b[90m━━━━━━━━━━━━━━━━━━━━━━━━━━━━━━━━━━━━━━━━\u001b[0m \u001b[32m2.1/2.1 MB\u001b[0m \u001b[31m56.3 MB/s\u001b[0m eta \u001b[36m0:00:00\u001b[0m\n",
            "\u001b[?25hCollecting solc-select>=v1.0.2\n",
            "  Downloading solc_select-1.0.3-py3-none-any.whl (19 kB)\n",
            "Collecting cbor2\n",
            "  Downloading cbor2-5.4.6-cp39-cp39-manylinux_2_17_x86_64.manylinux2014_x86_64.whl (223 kB)\n",
            "\u001b[2K     \u001b[90m━━━━━━━━━━━━━━━━━━━━━━━━━━━━━━━━━━━━━━\u001b[0m \u001b[32m223.1/223.1 kB\u001b[0m \u001b[31m25.3 MB/s\u001b[0m eta \u001b[36m0:00:00\u001b[0m\n",
            "\u001b[?25hCollecting eth-abi>=4.0.0\n",
            "  Downloading eth_abi-4.0.0-py3-none-any.whl (28 kB)\n",
            "Collecting eth-hash[pycryptodome]>=0.5.1\n",
            "  Downloading eth_hash-0.5.1-py3-none-any.whl (9.0 kB)\n",
            "Collecting eth-utils>=2.1.0\n",
            "  Downloading eth_utils-2.1.0-py3-none-any.whl (24 kB)\n",
            "Collecting hexbytes>=0.1.0\n",
            "  Downloading hexbytes-0.3.0-py3-none-any.whl (6.4 kB)\n",
            "Collecting aiohttp>=3.7.4.post0\n",
            "  Downloading aiohttp-3.8.4-cp39-cp39-manylinux_2_17_x86_64.manylinux2014_x86_64.whl (1.0 MB)\n",
            "\u001b[2K     \u001b[90m━━━━━━━━━━━━━━━━━━━━━━━━━━━━━━━━━━━━━━━━\u001b[0m \u001b[32m1.0/1.0 MB\u001b[0m \u001b[31m61.3 MB/s\u001b[0m eta \u001b[36m0:00:00\u001b[0m\n",
            "\u001b[?25hCollecting protobuf>=4.21.6\n",
            "  Downloading protobuf-4.22.3-cp37-abi3-manylinux2014_x86_64.whl (302 kB)\n",
            "\u001b[2K     \u001b[90m━━━━━━━━━━━━━━━━━━━━━━━━━━━━━━━━━━━━━━\u001b[0m \u001b[32m302.4/302.4 kB\u001b[0m \u001b[31m27.7 MB/s\u001b[0m eta \u001b[36m0:00:00\u001b[0m\n",
            "\u001b[?25hCollecting eth-account>=0.8.0\n",
            "  Downloading eth_account-0.8.0-py3-none-any.whl (102 kB)\n",
            "\u001b[2K     \u001b[90m━━━━━━━━━━━━━━━━━━━━━━━━━━━━━━━━━━━━━━\u001b[0m \u001b[32m102.4/102.4 kB\u001b[0m \u001b[31m12.1 MB/s\u001b[0m eta \u001b[36m0:00:00\u001b[0m\n",
            "\u001b[?25hCollecting eth-typing>=3.0.0\n",
            "  Downloading eth_typing-3.3.0-py3-none-any.whl (6.3 kB)\n",
            "Collecting lru-dict>=1.1.6\n",
            "  Downloading lru_dict-1.1.8-cp39-cp39-manylinux_2_5_x86_64.manylinux1_x86_64.manylinux_2_17_x86_64.manylinux2014_x86_64.whl (28 kB)\n",
            "Requirement already satisfied: requests>=2.16.0 in /usr/local/lib/python3.9/dist-packages (from web3>=6.0.0->slither-analyzer) (2.27.1)\n",
            "Collecting websockets>=10.0.0\n",
            "  Downloading websockets-11.0.2-cp39-cp39-manylinux_2_5_x86_64.manylinux1_x86_64.manylinux_2_17_x86_64.manylinux2014_x86_64.whl (129 kB)\n",
            "\u001b[2K     \u001b[90m━━━━━━━━━━━━━━━━━━━━━━━━━━━━━━━━━━━━━━\u001b[0m \u001b[32m129.7/129.7 kB\u001b[0m \u001b[31m16.4 MB/s\u001b[0m eta \u001b[36m0:00:00\u001b[0m\n",
            "\u001b[?25hRequirement already satisfied: jsonschema>=4.0.0 in /usr/local/lib/python3.9/dist-packages (from web3>=6.0.0->slither-analyzer) (4.3.3)\n",
            "Collecting aiosignal>=1.1.2\n",
            "  Downloading aiosignal-1.3.1-py3-none-any.whl (7.6 kB)\n",
            "Collecting yarl<2.0,>=1.0\n",
            "  Downloading yarl-1.9.1-cp39-cp39-manylinux_2_17_x86_64.manylinux2014_x86_64.whl (269 kB)\n",
            "\u001b[2K     \u001b[90m━━━━━━━━━━━━━━━━━━━━━━━━━━━━━━━━━━━━━━\u001b[0m \u001b[32m269.3/269.3 kB\u001b[0m \u001b[31m25.5 MB/s\u001b[0m eta \u001b[36m0:00:00\u001b[0m\n",
            "\u001b[?25hRequirement already satisfied: attrs>=17.3.0 in /usr/local/lib/python3.9/dist-packages (from aiohttp>=3.7.4.post0->web3>=6.0.0->slither-analyzer) (23.1.0)\n",
            "Collecting async-timeout<5.0,>=4.0.0a3\n",
            "  Downloading async_timeout-4.0.2-py3-none-any.whl (5.8 kB)\n",
            "Requirement already satisfied: charset-normalizer<4.0,>=2.0 in /usr/local/lib/python3.9/dist-packages (from aiohttp>=3.7.4.post0->web3>=6.0.0->slither-analyzer) (2.0.12)\n",
            "Collecting frozenlist>=1.1.1\n",
            "  Downloading frozenlist-1.3.3-cp39-cp39-manylinux_2_5_x86_64.manylinux1_x86_64.manylinux_2_17_x86_64.manylinux2014_x86_64.whl (158 kB)\n",
            "\u001b[2K     \u001b[90m━━━━━━━━━━━━━━━━━━━━━━━━━━━━━━━━━━━━━━\u001b[0m \u001b[32m158.8/158.8 kB\u001b[0m \u001b[31m17.5 MB/s\u001b[0m eta \u001b[36m0:00:00\u001b[0m\n",
            "\u001b[?25hCollecting multidict<7.0,>=4.5\n",
            "  Downloading multidict-6.0.4-cp39-cp39-manylinux_2_17_x86_64.manylinux2014_x86_64.whl (114 kB)\n",
            "\u001b[2K     \u001b[90m━━━━━━━━━━━━━━━━━━━━━━━━━━━━━━━━━━━━━━\u001b[0m \u001b[32m114.2/114.2 kB\u001b[0m \u001b[31m11.1 MB/s\u001b[0m eta \u001b[36m0:00:00\u001b[0m\n",
            "\u001b[?25hCollecting parsimonious<0.10.0,>=0.9.0\n",
            "  Downloading parsimonious-0.9.0.tar.gz (48 kB)\n",
            "\u001b[2K     \u001b[90m━━━━━━━━━━━━━━━━━━━━━━━━━━━━━━━━━━━━━━━━\u001b[0m \u001b[32m48.7/48.7 kB\u001b[0m \u001b[31m5.3 MB/s\u001b[0m eta \u001b[36m0:00:00\u001b[0m\n",
            "\u001b[?25h  Preparing metadata (setup.py) ... \u001b[?25l\u001b[?25hdone\n",
            "Collecting rlp<4,>=1.0.0\n",
            "  Downloading rlp-3.0.0-py2.py3-none-any.whl (20 kB)\n",
            "Collecting eth-keyfile<0.7.0,>=0.6.0\n",
            "  Downloading eth_keyfile-0.6.1-py3-none-any.whl (6.5 kB)\n",
            "Collecting eth-keys<0.5,>=0.4.0\n",
            "  Downloading eth_keys-0.4.0-py3-none-any.whl (21 kB)\n",
            "Collecting bitarray<3,>=2.4.0\n",
            "  Downloading bitarray-2.7.3-cp39-cp39-manylinux_2_17_x86_64.manylinux2014_x86_64.whl (269 kB)\n",
            "\u001b[2K     \u001b[90m━━━━━━━━━━━━━━━━━━━━━━━━━━━━━━━━━━━━━━\u001b[0m \u001b[32m269.6/269.6 kB\u001b[0m \u001b[31m24.1 MB/s\u001b[0m eta \u001b[36m0:00:00\u001b[0m\n",
            "\u001b[?25hCollecting eth-rlp<1,>=0.3.0\n",
            "  Downloading eth_rlp-0.3.0-py3-none-any.whl (5.0 kB)\n",
            "Collecting cytoolz>=0.10.1\n",
            "  Downloading cytoolz-0.12.1-cp39-cp39-manylinux_2_17_x86_64.manylinux2014_x86_64.whl (1.8 MB)\n",
            "\u001b[2K     \u001b[90m━━━━━━━━━━━━━━━━━━━━━━━━━━━━━━━━━━━━━━━━\u001b[0m \u001b[32m1.8/1.8 MB\u001b[0m \u001b[31m60.0 MB/s\u001b[0m eta \u001b[36m0:00:00\u001b[0m\n",
            "\u001b[?25hRequirement already satisfied: pyrsistent!=0.17.0,!=0.17.1,!=0.17.2,>=0.14.0 in /usr/local/lib/python3.9/dist-packages (from jsonschema>=4.0.0->web3>=6.0.0->slither-analyzer) (0.19.3)\n",
            "Requirement already satisfied: certifi>=2017.4.17 in /usr/local/lib/python3.9/dist-packages (from requests>=2.16.0->web3>=6.0.0->slither-analyzer) (2022.12.7)\n",
            "Requirement already satisfied: urllib3<1.27,>=1.21.1 in /usr/local/lib/python3.9/dist-packages (from requests>=2.16.0->web3>=6.0.0->slither-analyzer) (1.26.15)\n",
            "Requirement already satisfied: idna<4,>=2.5 in /usr/local/lib/python3.9/dist-packages (from requests>=2.16.0->web3>=6.0.0->slither-analyzer) (3.4)\n",
            "Requirement already satisfied: toolz>=0.8.0 in /usr/local/lib/python3.9/dist-packages (from cytoolz>=0.10.1->eth-utils>=2.1.0->web3>=6.0.0->slither-analyzer) (0.12.0)\n",
            "Requirement already satisfied: regex>=2022.3.15 in /usr/local/lib/python3.9/dist-packages (from parsimonious<0.10.0,>=0.9.0->eth-abi>=4.0.0->web3>=6.0.0->slither-analyzer) (2022.10.31)\n",
            "Building wheels for collected packages: parsimonious\n",
            "  Building wheel for parsimonious (setup.py) ... \u001b[?25l\u001b[?25hdone\n",
            "  Created wheel for parsimonious: filename=parsimonious-0.9.0-py3-none-any.whl size=44314 sha256=3312367f27813a02c5849098c1fe8637e1118eb7af806d6ff9f6a902aca3deab\n",
            "  Stored in directory: /root/.cache/pip/wheels/98/f5/bb/28d71f018fa6da82e7488371edcbc506add6b3cff02ed9d6fd\n",
            "Successfully built parsimonious\n",
            "Installing collected packages: lru-dict, bitarray, websockets, pycryptodome, protobuf, parsimonious, multidict, hexbytes, frozenlist, eth-typing, eth-hash, cytoolz, cbor2, async-timeout, yarl, solc-select, eth-utils, aiosignal, rlp, eth-keys, eth-abi, crytic-compile, aiohttp, eth-rlp, eth-keyfile, eth-account, web3, slither-analyzer\n",
            "  Attempting uninstall: protobuf\n",
            "    Found existing installation: protobuf 3.20.3\n",
            "    Uninstalling protobuf-3.20.3:\n",
            "      Successfully uninstalled protobuf-3.20.3\n",
            "Successfully installed aiohttp-3.8.4 aiosignal-1.3.1 async-timeout-4.0.2 bitarray-2.7.3 cbor2-5.4.6 crytic-compile-0.3.1 cytoolz-0.12.1 eth-abi-4.0.0 eth-account-0.8.0 eth-hash-0.5.1 eth-keyfile-0.6.1 eth-keys-0.4.0 eth-rlp-0.3.0 eth-typing-3.3.0 eth-utils-2.1.0 frozenlist-1.3.3 hexbytes-0.3.0 lru-dict-1.1.8 multidict-6.0.4 parsimonious-0.9.0 protobuf-4.22.3 pycryptodome-3.17 rlp-3.0.0 slither-analyzer-0.9.3 solc-select-1.0.3 web3-6.2.0 websockets-11.0.2 yarl-1.9.1\n",
            "Looking in indexes: https://pypi.org/simple, https://us-python.pkg.dev/colab-wheels/public/simple/\n",
            "Requirement already satisfied: solc-select in /usr/local/lib/python3.9/dist-packages (1.0.3)\n",
            "Requirement already satisfied: packaging in /usr/local/lib/python3.9/dist-packages (from solc-select) (23.1)\n",
            "Requirement already satisfied: pycryptodome>=3.4.6 in /usr/local/lib/python3.9/dist-packages (from solc-select) (3.17)\n",
            "Installing '0.4.24'...\n",
            "Version '0.4.24' installed.\n"
          ]
        }
      ]
    },
    {
      "cell_type": "code",
      "source": [
        "# #analyse all the contracts using slither\n",
        "print(\"\\n=================Running Slither==========================\\n\")\n",
        "slither_result = {}\n",
        "for contract_path in contract_paths:\n",
        "  try:\n",
        "    p = \"/content/\" + contract_path\n",
        "    result = subprocess.run(['slither', p], capture_output=True, text=True)\n",
        "    slither_result[contract_path] = result.stderr\n",
        "  except:\n",
        "    print('unable to run slither for ' + contract_path)"
      ],
      "metadata": {
        "colab": {
          "base_uri": "https://localhost:8080/"
        },
        "id": "Vhnt9mCPdvXL",
        "outputId": "36f7a518-b684-41d1-857b-29af196a321e"
      },
      "execution_count": null,
      "outputs": [
        {
          "output_type": "stream",
          "name": "stdout",
          "text": [
            "\n",
            "=================Running Slither==========================\n",
            "\n"
          ]
        }
      ]
    },
    {
      "cell_type": "code",
      "source": [
        "# Open the file for writing\n",
        "with open('slither_analysis_result.json', 'w') as f:\n",
        "    # Convert the dictionary to JSON and write it to the file\n",
        "    json.dump(slither_result, f)"
      ],
      "metadata": {
        "id": "SBsnsIbLku-Y"
      },
      "execution_count": null,
      "outputs": []
    },
    {
      "cell_type": "markdown",
      "source": [
        "## Mythril\n",
        "Run and test out Mythrill on all the 143 contracts"
      ],
      "metadata": {
        "id": "d4yWzt49swD7"
      }
    },
    {
      "cell_type": "code",
      "source": [
        "!pip install mythril"
      ],
      "metadata": {
        "colab": {
          "base_uri": "https://localhost:8080/"
        },
        "id": "33Db1Q5ks1sr",
        "outputId": "bcd14b2a-0ba7-48c4-e1fc-8db52459e56d"
      },
      "execution_count": null,
      "outputs": [
        {
          "output_type": "stream",
          "name": "stdout",
          "text": [
            "Looking in indexes: https://pypi.org/simple, https://us-python.pkg.dev/colab-wheels/public/simple/\n",
            "Collecting mythril\n",
            "  Downloading mythril-0.23.22.tar.gz (4.5 MB)\n",
            "\u001b[2K     \u001b[90m━━━━━━━━━━━━━━━━━━━━━━━━━━━━━━━━━━━━━━━━\u001b[0m \u001b[32m4.5/4.5 MB\u001b[0m \u001b[31m43.5 MB/s\u001b[0m eta \u001b[36m0:00:00\u001b[0m\n",
            "\u001b[?25h  Preparing metadata (setup.py) ... \u001b[?25l\u001b[?25hdone\n",
            "Collecting blake2b-py\n",
            "  Downloading blake2b_py-0.1.4-cp39-cp39-manylinux2010_x86_64.whl (151 kB)\n",
            "\u001b[2K     \u001b[90m━━━━━━━━━━━━━━━━━━━━━━━━━━━━━━━━━━━━━━━\u001b[0m \u001b[32m151.7/151.7 kB\u001b[0m \u001b[31m9.9 MB/s\u001b[0m eta \u001b[36m0:00:00\u001b[0m\n",
            "\u001b[?25hCollecting coloredlogs>=10.0\n",
            "  Downloading coloredlogs-15.0.1-py2.py3-none-any.whl (46 kB)\n",
            "\u001b[2K     \u001b[90m━━━━━━━━━━━━━━━━━━━━━━━━━━━━━━━━━━━━━━━━\u001b[0m \u001b[32m46.0/46.0 kB\u001b[0m \u001b[31m4.6 MB/s\u001b[0m eta \u001b[36m0:00:00\u001b[0m\n",
            "\u001b[?25hCollecting coincurve>=13.0.0\n",
            "  Downloading coincurve-18.0.0-cp39-cp39-manylinux_2_17_x86_64.manylinux2014_x86_64.whl (1.4 MB)\n",
            "\u001b[2K     \u001b[90m━━━━━━━━━━━━━━━━━━━━━━━━━━━━━━━━━━━━━━━━\u001b[0m \u001b[32m1.4/1.4 MB\u001b[0m \u001b[31m50.5 MB/s\u001b[0m eta \u001b[36m0:00:00\u001b[0m\n",
            "\u001b[?25hRequirement already satisfied: cython in /usr/local/lib/python3.9/dist-packages (from mythril) (0.29.34)\n",
            "Collecting cytoolz<0.12.0\n",
            "  Downloading cytoolz-0.11.2.tar.gz (481 kB)\n",
            "\u001b[2K     \u001b[90m━━━━━━━━━━━━━━━━━━━━━━━━━━━━━━━━━━━━━━\u001b[0m \u001b[32m481.0/481.0 kB\u001b[0m \u001b[31m40.6 MB/s\u001b[0m eta \u001b[36m0:00:00\u001b[0m\n",
            "\u001b[?25h  Preparing metadata (setup.py) ... \u001b[?25l\u001b[?25hdone\n",
            "Collecting asn1crypto>=0.22.0\n",
            "  Downloading asn1crypto-1.5.1-py2.py3-none-any.whl (105 kB)\n",
            "\u001b[2K     \u001b[90m━━━━━━━━━━━━━━━━━━━━━━━━━━━━━━━━━━━━━━\u001b[0m \u001b[32m105.0/105.0 kB\u001b[0m \u001b[31m12.5 MB/s\u001b[0m eta \u001b[36m0:00:00\u001b[0m\n",
            "\u001b[?25hCollecting configparser>=3.5.0\n",
            "  Downloading configparser-5.3.0-py3-none-any.whl (19 kB)\n",
            "Collecting coverage<7.0,>6.0\n",
            "  Downloading coverage-6.5.0-cp39-cp39-manylinux_2_5_x86_64.manylinux1_x86_64.manylinux_2_17_x86_64.manylinux2014_x86_64.whl (212 kB)\n",
            "\u001b[2K     \u001b[90m━━━━━━━━━━━━━━━━━━━━━━━━━━━━━━━━━━━━━━\u001b[0m \u001b[32m212.8/212.8 kB\u001b[0m \u001b[31m23.3 MB/s\u001b[0m eta \u001b[36m0:00:00\u001b[0m\n",
            "\u001b[?25hCollecting py_ecc<5.0.0,>=1.4.7\n",
            "  Downloading py_ecc-4.1.0-py3-none-any.whl (41 kB)\n",
            "\u001b[2K     \u001b[90m━━━━━━━━━━━━━━━━━━━━━━━━━━━━━━━━━━━━━━━━\u001b[0m \u001b[32m41.8/41.8 kB\u001b[0m \u001b[31m4.0 MB/s\u001b[0m eta \u001b[36m0:00:00\u001b[0m\n",
            "\u001b[?25hCollecting eth_abi<3.0.0,>=2.0.0b4\n",
            "  Downloading eth_abi-2.2.0-py3-none-any.whl (28 kB)\n",
            "Collecting eth-account<0.6.0,>=0.5.6\n",
            "  Downloading eth_account-0.5.9-py3-none-any.whl (101 kB)\n",
            "\u001b[2K     \u001b[90m━━━━━━━━━━━━━━━━━━━━━━━━━━━━━━━━━━━━━━\u001b[0m \u001b[32m101.8/101.8 kB\u001b[0m \u001b[31m10.7 MB/s\u001b[0m eta \u001b[36m0:00:00\u001b[0m\n",
            "\u001b[?25hCollecting ethereum-input-decoder>=0.2.2\n",
            "  Downloading ethereum_input_decoder-0.2.2.tar.gz (5.5 kB)\n",
            "  Preparing metadata (setup.py) ... \u001b[?25l\u001b[?25hdone\n",
            "Collecting eth-hash<0.4.0,>=0.3.1\n",
            "  Downloading eth_hash-0.3.3-py3-none-any.whl (8.9 kB)\n",
            "Collecting eth-keyfile<0.6.0,>=0.5.1\n",
            "  Downloading eth_keyfile-0.5.1-py3-none-any.whl (8.3 kB)\n",
            "Collecting eth-keys<0.4.0,>=0.2.1\n",
            "  Downloading eth_keys-0.3.4-py3-none-any.whl (21 kB)\n",
            "Collecting eth-rlp<0.3.0,>=0.1.0\n",
            "  Downloading eth_rlp-0.2.1-py3-none-any.whl (5.0 kB)\n",
            "Collecting eth-typing<3.0.0,>=2.1.0\n",
            "  Downloading eth_typing-2.3.0-py3-none-any.whl (6.2 kB)\n",
            "Collecting eth-utils<2\n",
            "  Downloading eth_utils-1.10.0-py3-none-any.whl (24 kB)\n",
            "Collecting hexbytes<0.3.0\n",
            "  Downloading hexbytes-0.2.3-py3-none-any.whl (6.4 kB)\n",
            "Requirement already satisfied: jinja2>=2.9 in /usr/local/lib/python3.9/dist-packages (from mythril) (3.1.2)\n",
            "Collecting MarkupSafe<2.1.0\n",
            "  Downloading MarkupSafe-2.0.1-cp39-cp39-manylinux_2_5_x86_64.manylinux1_x86_64.manylinux_2_12_x86_64.manylinux2010_x86_64.whl (30 kB)\n",
            "Collecting mock\n",
            "  Downloading mock-5.0.2-py3-none-any.whl (30 kB)\n",
            "Collecting mypy-extensions<1.0.0\n",
            "  Downloading mypy_extensions-0.4.4.tar.gz (4.2 kB)\n",
            "  Preparing metadata (setup.py) ... \u001b[?25l\u001b[?25hdone\n",
            "Collecting persistent>=4.2.0\n",
            "  Downloading persistent-5.0-cp39-cp39-manylinux_2_5_x86_64.manylinux1_x86_64.manylinux_2_17_x86_64.manylinux2014_x86_64.whl (230 kB)\n",
            "\u001b[2K     \u001b[90m━━━━━━━━━━━━━━━━━━━━━━━━━━━━━━━━━━━━━━\u001b[0m \u001b[32m230.7/230.7 kB\u001b[0m \u001b[31m21.1 MB/s\u001b[0m eta \u001b[36m0:00:00\u001b[0m\n",
            "\u001b[?25hCollecting py-flags\n",
            "  Downloading py_flags-1.1.4-py3-none-any.whl (17 kB)\n",
            "Collecting py-evm==0.5.0a1\n",
            "  Downloading py_evm-0.5.0a1-py3-none-any.whl (273 kB)\n",
            "\u001b[2K     \u001b[90m━━━━━━━━━━━━━━━━━━━━━━━━━━━━━━━━━━━━━━\u001b[0m \u001b[32m273.7/273.7 kB\u001b[0m \u001b[31m20.5 MB/s\u001b[0m eta \u001b[36m0:00:00\u001b[0m\n",
            "\u001b[?25hCollecting py-solc-x\n",
            "  Downloading py_solc_x-1.1.1-py3-none-any.whl (15 kB)\n",
            "Collecting py-solc\n",
            "  Downloading py_solc-3.2.0-py3-none-any.whl (12 kB)\n",
            "Requirement already satisfied: pytest>=3.6.0 in /usr/local/lib/python3.9/dist-packages (from mythril) (7.2.2)\n",
            "Collecting pyparsing<3,>=2.0.2\n",
            "  Downloading pyparsing-2.4.7-py2.py3-none-any.whl (67 kB)\n",
            "\u001b[2K     \u001b[90m━━━━━━━━━━━━━━━━━━━━━━━━━━━━━━━━━━━━━━━━\u001b[0m \u001b[32m67.8/67.8 kB\u001b[0m \u001b[31m7.8 MB/s\u001b[0m eta \u001b[36m0:00:00\u001b[0m\n",
            "\u001b[?25hCollecting pytest-cov\n",
            "  Downloading pytest_cov-4.0.0-py3-none-any.whl (21 kB)\n",
            "Collecting pytest_mock\n",
            "  Downloading pytest_mock-3.10.0-py3-none-any.whl (9.3 kB)\n",
            "Requirement already satisfied: requests in /usr/local/lib/python3.9/dist-packages (from mythril) (2.27.1)\n",
            "Collecting rlp<3\n",
            "  Downloading rlp-2.0.1-py2.py3-none-any.whl (20 kB)\n",
            "Collecting semantic_version\n",
            "  Downloading semantic_version-2.10.0-py2.py3-none-any.whl (15 kB)\n",
            "Collecting transaction>=2.2.1\n",
            "  Downloading transaction-3.1.0-py2.py3-none-any.whl (47 kB)\n",
            "\u001b[2K     \u001b[90m━━━━━━━━━━━━━━━━━━━━━━━━━━━━━━━━━━━━━━━━\u001b[0m \u001b[32m47.3/47.3 kB\u001b[0m \u001b[31m4.7 MB/s\u001b[0m eta \u001b[36m0:00:00\u001b[0m\n",
            "\u001b[?25hCollecting typing-extensions<4,>=3.7.4\n",
            "  Downloading typing_extensions-3.10.0.2-py3-none-any.whl (26 kB)\n",
            "Collecting z3-solver>=4.8.8.0\n",
            "  Downloading z3_solver-4.12.1.0-py2.py3-none-manylinux1_x86_64.whl (56.0 MB)\n",
            "\u001b[2K     \u001b[90m━━━━━━━━━━━━━━━━━━━━━━━━━━━━━━━━━━━━━━━━\u001b[0m \u001b[32m56.0/56.0 MB\u001b[0m \u001b[31m10.2 MB/s\u001b[0m eta \u001b[36m0:00:00\u001b[0m\n",
            "\u001b[?25hRequirement already satisfied: matplotlib in /usr/local/lib/python3.9/dist-packages (from mythril) (3.7.1)\n",
            "Collecting pre-commit<2.21.0\n",
            "  Downloading pre_commit-2.20.0-py2.py3-none-any.whl (199 kB)\n",
            "\u001b[2K     \u001b[90m━━━━━━━━━━━━━━━━━━━━━━━━━━━━━━━━━━━━━━\u001b[0m \u001b[32m199.5/199.5 kB\u001b[0m \u001b[31m21.0 MB/s\u001b[0m eta \u001b[36m0:00:00\u001b[0m\n",
            "\u001b[?25hRequirement already satisfied: certifi>=2020.06.20 in /usr/local/lib/python3.9/dist-packages (from mythril) (2022.12.7)\n",
            "Requirement already satisfied: lru-dict>=1.1.6 in /usr/local/lib/python3.9/dist-packages (from py-evm==0.5.0a1->mythril) (1.1.8)\n",
            "Collecting eth-bloom<2.0.0,>=1.0.3\n",
            "  Downloading eth_bloom-1.0.4-py3-none-any.whl (5.4 kB)\n",
            "Requirement already satisfied: cached-property<2,>=1.5.1 in /usr/local/lib/python3.9/dist-packages (from py-evm==0.5.0a1->mythril) (1.5.2)\n",
            "Collecting pyethash<1.0.0,>=0.1.27\n",
            "  Downloading pyethash-0.1.27.tar.gz (38 kB)\n",
            "  Preparing metadata (setup.py) ... \u001b[?25l\u001b[?25hdone\n",
            "Collecting trie==2.0.0-alpha.5\n",
            "  Downloading trie-2.0.0a5-py3-none-any.whl (38 kB)\n",
            "Requirement already satisfied: sortedcontainers<3,>=2.1.0 in /usr/local/lib/python3.9/dist-packages (from trie==2.0.0-alpha.5->py-evm==0.5.0a1->mythril) (2.4.0)\n",
            "Requirement already satisfied: cffi>=1.3.0 in /usr/local/lib/python3.9/dist-packages (from coincurve>=13.0.0->mythril) (1.15.1)\n",
            "Collecting humanfriendly>=9.1\n",
            "  Downloading humanfriendly-10.0-py2.py3-none-any.whl (86 kB)\n",
            "\u001b[2K     \u001b[90m━━━━━━━━━━━━━━━━━━━━━━━━━━━━━━━━━━━━━━━━\u001b[0m \u001b[32m86.8/86.8 kB\u001b[0m \u001b[31m10.0 MB/s\u001b[0m eta \u001b[36m0:00:00\u001b[0m\n",
            "\u001b[?25hRequirement already satisfied: toolz>=0.8.0 in /usr/local/lib/python3.9/dist-packages (from cytoolz<0.12.0->mythril) (0.12.0)\n",
            "Collecting parsimonious<0.9.0,>=0.8.0\n",
            "  Downloading parsimonious-0.8.1.tar.gz (45 kB)\n",
            "\u001b[2K     \u001b[90m━━━━━━━━━━━━━━━━━━━━━━━━━━━━━━━━━━━━━━━━\u001b[0m \u001b[32m45.1/45.1 kB\u001b[0m \u001b[31m4.7 MB/s\u001b[0m eta \u001b[36m0:00:00\u001b[0m\n",
            "\u001b[?25h  Preparing metadata (setup.py) ... \u001b[?25l\u001b[?25hdone\n",
            "Requirement already satisfied: bitarray<3,>=1.2.1 in /usr/local/lib/python3.9/dist-packages (from eth-account<0.6.0,>=0.5.6->mythril) (2.7.3)\n",
            "Requirement already satisfied: pycryptodome<4.0.0,>=3.4.7 in /usr/local/lib/python3.9/dist-packages (from eth-keyfile<0.6.0,>=0.5.1->mythril) (3.17)\n",
            "Collecting zope.interface\n",
            "  Downloading zope.interface-6.0-cp39-cp39-manylinux_2_5_x86_64.manylinux1_x86_64.manylinux_2_17_x86_64.manylinux2014_x86_64.whl (246 kB)\n",
            "\u001b[2K     \u001b[90m━━━━━━━━━━━━━━━━━━━━━━━━━━━━━━━━━━━━━━\u001b[0m \u001b[32m246.1/246.1 kB\u001b[0m \u001b[31m24.6 MB/s\u001b[0m eta \u001b[36m0:00:00\u001b[0m\n",
            "\u001b[?25hCollecting virtualenv>=20.0.8\n",
            "  Downloading virtualenv-20.22.0-py3-none-any.whl (3.2 MB)\n",
            "\u001b[2K     \u001b[90m━━━━━━━━━━━━━━━━━━━━━━━━━━━━━━━━━━━━━━━━\u001b[0m \u001b[32m3.2/3.2 MB\u001b[0m \u001b[31m72.2 MB/s\u001b[0m eta \u001b[36m0:00:00\u001b[0m\n",
            "\u001b[?25hCollecting identify>=1.0.0\n",
            "  Downloading identify-2.5.22-py2.py3-none-any.whl (98 kB)\n",
            "\u001b[2K     \u001b[90m━━━━━━━━━━━━━━━━━━━━━━━━━━━━━━━━━━━━━━━━\u001b[0m \u001b[32m98.8/98.8 kB\u001b[0m \u001b[31m10.7 MB/s\u001b[0m eta \u001b[36m0:00:00\u001b[0m\n",
            "\u001b[?25hRequirement already satisfied: toml in /usr/local/lib/python3.9/dist-packages (from pre-commit<2.21.0->mythril) (0.10.2)\n",
            "Collecting nodeenv>=0.11.1\n",
            "  Downloading nodeenv-1.7.0-py2.py3-none-any.whl (21 kB)\n",
            "Requirement already satisfied: pyyaml>=5.1 in /usr/local/lib/python3.9/dist-packages (from pre-commit<2.21.0->mythril) (6.0)\n",
            "Collecting cfgv>=2.0.0\n",
            "  Downloading cfgv-3.3.1-py2.py3-none-any.whl (7.3 kB)\n",
            "Requirement already satisfied: pluggy<2.0,>=0.12 in /usr/local/lib/python3.9/dist-packages (from pytest>=3.6.0->mythril) (1.0.0)\n",
            "Requirement already satisfied: tomli>=1.0.0 in /usr/local/lib/python3.9/dist-packages (from pytest>=3.6.0->mythril) (2.0.1)\n",
            "Requirement already satisfied: packaging in /usr/local/lib/python3.9/dist-packages (from pytest>=3.6.0->mythril) (23.1)\n",
            "Requirement already satisfied: attrs>=19.2.0 in /usr/local/lib/python3.9/dist-packages (from pytest>=3.6.0->mythril) (23.1.0)\n",
            "Requirement already satisfied: iniconfig in /usr/local/lib/python3.9/dist-packages (from pytest>=3.6.0->mythril) (2.0.0)\n",
            "Requirement already satisfied: exceptiongroup>=1.0.0rc8 in /usr/local/lib/python3.9/dist-packages (from pytest>=3.6.0->mythril) (1.1.1)\n",
            "Requirement already satisfied: cycler>=0.10 in /usr/local/lib/python3.9/dist-packages (from matplotlib->mythril) (0.11.0)\n",
            "Requirement already satisfied: fonttools>=4.22.0 in /usr/local/lib/python3.9/dist-packages (from matplotlib->mythril) (4.39.3)\n",
            "Requirement already satisfied: pillow>=6.2.0 in /usr/local/lib/python3.9/dist-packages (from matplotlib->mythril) (8.4.0)\n",
            "Requirement already satisfied: kiwisolver>=1.0.1 in /usr/local/lib/python3.9/dist-packages (from matplotlib->mythril) (1.4.4)\n",
            "Requirement already satisfied: contourpy>=1.0.1 in /usr/local/lib/python3.9/dist-packages (from matplotlib->mythril) (1.0.7)\n",
            "Requirement already satisfied: python-dateutil>=2.7 in /usr/local/lib/python3.9/dist-packages (from matplotlib->mythril) (2.8.2)\n",
            "Requirement already satisfied: importlib-resources>=3.2.0 in /usr/local/lib/python3.9/dist-packages (from matplotlib->mythril) (5.12.0)\n",
            "Requirement already satisfied: numpy>=1.20 in /usr/local/lib/python3.9/dist-packages (from matplotlib->mythril) (1.22.4)\n",
            "Collecting dictionaries==0.0.2\n",
            "  Downloading dictionaries-0.0.2-py2.py3-none-any.whl (7.9 kB)\n",
            "Requirement already satisfied: charset-normalizer~=2.0.0 in /usr/local/lib/python3.9/dist-packages (from requests->mythril) (2.0.12)\n",
            "Requirement already satisfied: urllib3<1.27,>=1.21.1 in /usr/local/lib/python3.9/dist-packages (from requests->mythril) (1.26.15)\n",
            "Requirement already satisfied: idna<4,>=2.5 in /usr/local/lib/python3.9/dist-packages (from requests->mythril) (3.4)\n",
            "Collecting coverage[toml]>=5.2.1\n",
            "  Downloading coverage-7.2.3-cp39-cp39-manylinux_2_5_x86_64.manylinux1_x86_64.manylinux_2_17_x86_64.manylinux2014_x86_64.whl (227 kB)\n",
            "\u001b[2K     \u001b[90m━━━━━━━━━━━━━━━━━━━━━━━━━━━━━━━━━━━━━━\u001b[0m \u001b[32m227.5/227.5 kB\u001b[0m \u001b[31m14.2 MB/s\u001b[0m eta \u001b[36m0:00:00\u001b[0m\n",
            "\u001b[?25hRequirement already satisfied: pycparser in /usr/local/lib/python3.9/dist-packages (from cffi>=1.3.0->coincurve>=13.0.0->mythril) (2.21)\n",
            "  Downloading coverage-7.2.2-cp39-cp39-manylinux_2_5_x86_64.manylinux1_x86_64.manylinux_2_17_x86_64.manylinux2014_x86_64.whl (227 kB)\n",
            "\u001b[2K     \u001b[90m━━━━━━━━━━━━━━━━━━━━━━━━━━━━━━━━━━━━━━\u001b[0m \u001b[32m227.0/227.0 kB\u001b[0m \u001b[31m19.5 MB/s\u001b[0m eta \u001b[36m0:00:00\u001b[0m\n",
            "\u001b[?25h  Downloading coverage-7.2.1-cp39-cp39-manylinux_2_5_x86_64.manylinux1_x86_64.manylinux_2_17_x86_64.manylinux2014_x86_64.whl (226 kB)\n",
            "\u001b[2K     \u001b[90m━━━━━━━━━━━━━━━━━━━━━━━━━━━━━━━━━━━━━━\u001b[0m \u001b[32m226.9/226.9 kB\u001b[0m \u001b[31m21.1 MB/s\u001b[0m eta \u001b[36m0:00:00\u001b[0m\n",
            "\u001b[?25h  Downloading coverage-7.2.0-cp39-cp39-manylinux_2_5_x86_64.manylinux1_x86_64.manylinux_2_17_x86_64.manylinux2014_x86_64.whl (226 kB)\n",
            "\u001b[2K     \u001b[90m━━━━━━━━━━━━━━━━━━━━━━━━━━━━━━━━━━━━━━\u001b[0m \u001b[32m226.9/226.9 kB\u001b[0m \u001b[31m20.3 MB/s\u001b[0m eta \u001b[36m0:00:00\u001b[0m\n",
            "\u001b[?25h  Downloading coverage-7.1.0-cp39-cp39-manylinux_2_5_x86_64.manylinux1_x86_64.manylinux_2_17_x86_64.manylinux2014_x86_64.whl (226 kB)\n",
            "\u001b[2K     \u001b[90m━━━━━━━━━━━━━━━━━━━━━━━━━━━━━━━━━━━━━━\u001b[0m \u001b[32m226.2/226.2 kB\u001b[0m \u001b[31m17.1 MB/s\u001b[0m eta \u001b[36m0:00:00\u001b[0m\n",
            "\u001b[?25h  Downloading coverage-7.0.5-cp39-cp39-manylinux_2_5_x86_64.manylinux1_x86_64.manylinux_2_17_x86_64.manylinux2014_x86_64.whl (225 kB)\n",
            "\u001b[2K     \u001b[90m━━━━━━━━━━━━━━━━━━━━━━━━━━━━━━━━━━━━━━\u001b[0m \u001b[32m225.4/225.4 kB\u001b[0m \u001b[31m19.6 MB/s\u001b[0m eta \u001b[36m0:00:00\u001b[0m\n",
            "\u001b[?25h  Downloading coverage-7.0.4-cp39-cp39-manylinux_2_5_x86_64.manylinux1_x86_64.manylinux_2_17_x86_64.manylinux2014_x86_64.whl (224 kB)\n",
            "\u001b[2K     \u001b[90m━━━━━━━━━━━━━━━━━━━━━━━━━━━━━━━━━━━━━━\u001b[0m \u001b[32m224.9/224.9 kB\u001b[0m \u001b[31m20.5 MB/s\u001b[0m eta \u001b[36m0:00:00\u001b[0m\n",
            "\u001b[?25h  Downloading coverage-7.0.3-cp39-cp39-manylinux_2_5_x86_64.manylinux1_x86_64.manylinux_2_17_x86_64.manylinux2014_x86_64.whl (224 kB)\n",
            "\u001b[2K     \u001b[90m━━━━━━━━━━━━━━━━━━━━━━━━━━━━━━━━━━━━━━\u001b[0m \u001b[32m224.3/224.3 kB\u001b[0m \u001b[31m19.7 MB/s\u001b[0m eta \u001b[36m0:00:00\u001b[0m\n",
            "\u001b[?25h  Downloading coverage-7.0.2-cp39-cp39-manylinux_2_5_x86_64.manylinux1_x86_64.manylinux_2_17_x86_64.manylinux2014_x86_64.whl (223 kB)\n",
            "\u001b[2K     \u001b[90m━━━━━━━━━━━━━━━━━━━━━━━━━━━━━━━━━━━━━━\u001b[0m \u001b[32m223.9/223.9 kB\u001b[0m \u001b[31m17.6 MB/s\u001b[0m eta \u001b[36m0:00:00\u001b[0m\n",
            "\u001b[?25h  Downloading coverage-7.0.1-cp39-cp39-manylinux_2_5_x86_64.manylinux1_x86_64.manylinux_2_17_x86_64.manylinux2014_x86_64.whl (215 kB)\n",
            "\u001b[2K     \u001b[90m━━━━━━━━━━━━━━━━━━━━━━━━━━━━━━━━━━━━━━\u001b[0m \u001b[32m215.6/215.6 kB\u001b[0m \u001b[31m20.4 MB/s\u001b[0m eta \u001b[36m0:00:00\u001b[0m\n",
            "\u001b[?25h  Downloading coverage-7.0.0-cp39-cp39-manylinux_2_5_x86_64.manylinux1_x86_64.manylinux_2_17_x86_64.manylinux2014_x86_64.whl (215 kB)\n",
            "\u001b[2K     \u001b[90m━━━━━━━━━━━━━━━━━━━━━━━━━━━━━━━━━━━━━━\u001b[0m \u001b[32m215.5/215.5 kB\u001b[0m \u001b[31m18.9 MB/s\u001b[0m eta \u001b[36m0:00:00\u001b[0m\n",
            "\u001b[?25hRequirement already satisfied: zipp>=3.1.0 in /usr/local/lib/python3.9/dist-packages (from importlib-resources>=3.2.0->matplotlib->mythril) (3.15.0)\n",
            "Requirement already satisfied: setuptools in /usr/local/lib/python3.9/dist-packages (from nodeenv>=0.11.1->pre-commit<2.21.0->mythril) (67.7.1)\n",
            "Requirement already satisfied: six>=1.9.0 in /usr/local/lib/python3.9/dist-packages (from parsimonious<0.9.0,>=0.8.0->eth_abi<3.0.0,>=2.0.0b4->mythril) (1.16.0)\n",
            "Collecting distlib<1,>=0.3.6\n",
            "  Downloading distlib-0.3.6-py2.py3-none-any.whl (468 kB)\n",
            "\u001b[2K     \u001b[90m━━━━━━━━━━━━━━━━━━━━━━━━━━━━━━━━━━━━━━\u001b[0m \u001b[32m468.5/468.5 kB\u001b[0m \u001b[31m31.0 MB/s\u001b[0m eta \u001b[36m0:00:00\u001b[0m\n",
            "\u001b[?25hRequirement already satisfied: platformdirs<4,>=3.2 in /usr/local/lib/python3.9/dist-packages (from virtualenv>=20.0.8->pre-commit<2.21.0->mythril) (3.2.0)\n",
            "Requirement already satisfied: filelock<4,>=3.11 in /usr/local/lib/python3.9/dist-packages (from virtualenv>=20.0.8->pre-commit<2.21.0->mythril) (3.11.0)\n",
            "Building wheels for collected packages: mythril, cytoolz, ethereum-input-decoder, mypy-extensions, parsimonious, pyethash\n",
            "  Building wheel for mythril (setup.py) ... \u001b[?25l\u001b[?25hdone\n",
            "  Created wheel for mythril: filename=mythril-0.23.22-py3-none-any.whl size=4599189 sha256=dc7d66da74dc52732de708b66f4f2d30a0d1c86ce24967b6ccbdc55cf5d85f25\n",
            "  Stored in directory: /root/.cache/pip/wheels/53/83/3d/1a056b883fce9259fc46f695affd7406a7d259ca6016edd463\n",
            "  Building wheel for cytoolz (setup.py) ... \u001b[?25l\u001b[?25hdone\n",
            "  Created wheel for cytoolz: filename=cytoolz-0.11.2-cp39-cp39-linux_x86_64.whl size=1805645 sha256=dd0e345b91d876f0113e6efbdd770addc668508ea06f21b28efc9fb8410bef50\n",
            "  Stored in directory: /root/.cache/pip/wheels/20/01/4d/82db586a6c6fab67f177e84588b8ce14b50081e4b1e56b1109\n",
            "  Building wheel for ethereum-input-decoder (setup.py) ... \u001b[?25l\u001b[?25hdone\n",
            "  Created wheel for ethereum-input-decoder: filename=ethereum_input_decoder-0.2.2-py3-none-any.whl size=6376 sha256=00015b01e59fdbc2b2e2de174df1a3c839b2d5a73a521c37fa47c6441b7d07d5\n",
            "  Stored in directory: /root/.cache/pip/wheels/e7/cb/89/295017d65a11782453e3d091b7b5be2580116b3512c2594de8\n",
            "  Building wheel for mypy-extensions (setup.py) ... \u001b[?25l\u001b[?25hdone\n",
            "  Created wheel for mypy-extensions: filename=mypy_extensions-0.4.4-py2.py3-none-any.whl size=4495 sha256=18b08918574a57840481f3999e7f9b8b67944fa213b246e4e3ab04c8bd968371\n",
            "  Stored in directory: /root/.cache/pip/wheels/5e/53/31/a2f6574f22c8f2d131a5ab0b5f59fa04bc9666517f214243c9\n",
            "  Building wheel for parsimonious (setup.py) ... \u001b[?25l\u001b[?25hdone\n",
            "  Created wheel for parsimonious: filename=parsimonious-0.8.1-py3-none-any.whl size=42725 sha256=9470d65fd59d893c8a32c9d72a2e1bb3f35ff4fb866233749a4ad26d9983f61a\n",
            "  Stored in directory: /root/.cache/pip/wheels/ae/3f/87/24298980f6c0436680b8b64caac154f542e138487ed0f90f2a\n",
            "  Building wheel for pyethash (setup.py) ... \u001b[?25l\u001b[?25hdone\n",
            "  Created wheel for pyethash: filename=pyethash-0.1.27-cp39-cp39-linux_x86_64.whl size=56471 sha256=cf8258fd1dbe459863d49cca9a94cefb36bf4e18b986fb6fc9e6f663adb7e577\n",
            "  Stored in directory: /root/.cache/pip/wheels/4c/18/f0/cd1732ca0b05b39f2bcdf668b335811e89e74f46e8ca19efaf\n",
            "Successfully built mythril cytoolz ethereum-input-decoder mypy-extensions parsimonious pyethash\n",
            "Installing collected packages: z3-solver, typing-extensions, pyethash, distlib, dictionaries, blake2b-py, asn1crypto, zope.interface, virtualenv, semantic_version, pyparsing, py-flags, parsimonious, nodeenv, mypy-extensions, mock, MarkupSafe, identify, humanfriendly, hexbytes, eth-typing, eth-hash, cytoolz, coverage, configparser, cfgv, transaction, pytest_mock, py-solc-x, py-solc, pre-commit, persistent, eth-utils, coloredlogs, coincurve, rlp, pytest-cov, py_ecc, eth-keys, eth-bloom, eth_abi, trie, ethereum-input-decoder, eth-rlp, eth-keyfile, py-evm, eth-account, mythril\n",
            "  Attempting uninstall: typing-extensions\n",
            "    Found existing installation: typing_extensions 4.5.0\n",
            "    Uninstalling typing_extensions-4.5.0:\n",
            "      Successfully uninstalled typing_extensions-4.5.0\n",
            "  Attempting uninstall: pyparsing\n",
            "    Found existing installation: pyparsing 3.0.9\n",
            "    Uninstalling pyparsing-3.0.9:\n",
            "      Successfully uninstalled pyparsing-3.0.9\n",
            "  Attempting uninstall: parsimonious\n",
            "    Found existing installation: parsimonious 0.9.0\n",
            "    Uninstalling parsimonious-0.9.0:\n",
            "      Successfully uninstalled parsimonious-0.9.0\n",
            "  Attempting uninstall: MarkupSafe\n",
            "    Found existing installation: MarkupSafe 2.1.2\n",
            "    Uninstalling MarkupSafe-2.1.2:\n",
            "      Successfully uninstalled MarkupSafe-2.1.2\n",
            "  Attempting uninstall: hexbytes\n",
            "    Found existing installation: hexbytes 0.3.0\n",
            "    Uninstalling hexbytes-0.3.0:\n",
            "      Successfully uninstalled hexbytes-0.3.0\n",
            "  Attempting uninstall: eth-typing\n",
            "    Found existing installation: eth-typing 3.3.0\n",
            "    Uninstalling eth-typing-3.3.0:\n",
            "      Successfully uninstalled eth-typing-3.3.0\n",
            "  Attempting uninstall: eth-hash\n",
            "    Found existing installation: eth-hash 0.5.1\n",
            "    Uninstalling eth-hash-0.5.1:\n",
            "      Successfully uninstalled eth-hash-0.5.1\n",
            "  Attempting uninstall: cytoolz\n",
            "    Found existing installation: cytoolz 0.12.1\n",
            "    Uninstalling cytoolz-0.12.1:\n",
            "      Successfully uninstalled cytoolz-0.12.1\n",
            "  Attempting uninstall: eth-utils\n",
            "    Found existing installation: eth-utils 2.1.0\n",
            "    Uninstalling eth-utils-2.1.0:\n",
            "      Successfully uninstalled eth-utils-2.1.0\n",
            "  Attempting uninstall: rlp\n",
            "    Found existing installation: rlp 3.0.0\n",
            "    Uninstalling rlp-3.0.0:\n",
            "      Successfully uninstalled rlp-3.0.0\n",
            "  Attempting uninstall: eth-keys\n",
            "    Found existing installation: eth-keys 0.4.0\n",
            "    Uninstalling eth-keys-0.4.0:\n",
            "      Successfully uninstalled eth-keys-0.4.0\n",
            "  Attempting uninstall: eth_abi\n",
            "    Found existing installation: eth-abi 4.0.0\n",
            "    Uninstalling eth-abi-4.0.0:\n",
            "      Successfully uninstalled eth-abi-4.0.0\n",
            "  Attempting uninstall: eth-rlp\n",
            "    Found existing installation: eth-rlp 0.3.0\n",
            "    Uninstalling eth-rlp-0.3.0:\n",
            "      Successfully uninstalled eth-rlp-0.3.0\n",
            "  Attempting uninstall: eth-keyfile\n",
            "    Found existing installation: eth-keyfile 0.6.1\n",
            "    Uninstalling eth-keyfile-0.6.1:\n",
            "      Successfully uninstalled eth-keyfile-0.6.1\n",
            "  Attempting uninstall: eth-account\n",
            "    Found existing installation: eth-account 0.8.0\n",
            "    Uninstalling eth-account-0.8.0:\n",
            "      Successfully uninstalled eth-account-0.8.0\n",
            "\u001b[31mERROR: pip's dependency resolver does not currently take into account all the packages that are installed. This behaviour is the source of the following dependency conflicts.\n",
            "werkzeug 2.2.3 requires MarkupSafe>=2.1.1, but you have markupsafe 2.0.1 which is incompatible.\n",
            "web3 6.2.0 requires eth-abi>=4.0.0, but you have eth-abi 2.2.0 which is incompatible.\n",
            "web3 6.2.0 requires eth-account>=0.8.0, but you have eth-account 0.5.9 which is incompatible.\n",
            "web3 6.2.0 requires eth-hash[pycryptodome]>=0.5.1, but you have eth-hash 0.3.3 which is incompatible.\n",
            "web3 6.2.0 requires eth-typing>=3.0.0, but you have eth-typing 2.3.0 which is incompatible.\n",
            "web3 6.2.0 requires eth-utils>=2.1.0, but you have eth-utils 1.10.0 which is incompatible.\n",
            "sqlalchemy 2.0.9 requires typing-extensions>=4.2.0, but you have typing-extensions 3.10.0.2 which is incompatible.\n",
            "pydantic 1.10.7 requires typing-extensions>=4.2.0, but you have typing-extensions 3.10.0.2 which is incompatible.\n",
            "polars 0.17.3 requires typing_extensions>=4.0.1; python_version < \"3.11\", but you have typing-extensions 3.10.0.2 which is incompatible.\n",
            "librosa 0.10.0.post2 requires typing-extensions>=4.1.1, but you have typing-extensions 3.10.0.2 which is incompatible.\n",
            "flax 0.6.8 requires typing-extensions>=4.1.1, but you have typing-extensions 3.10.0.2 which is incompatible.\n",
            "chex 0.1.7 requires typing-extensions>=4.2.0; python_version < \"3.11\", but you have typing-extensions 3.10.0.2 which is incompatible.\n",
            "arviz 0.15.1 requires typing-extensions>=4.1.0, but you have typing-extensions 3.10.0.2 which is incompatible.\u001b[0m\u001b[31m\n",
            "\u001b[0mSuccessfully installed MarkupSafe-2.0.1 asn1crypto-1.5.1 blake2b-py-0.1.4 cfgv-3.3.1 coincurve-18.0.0 coloredlogs-15.0.1 configparser-5.3.0 coverage-6.5.0 cytoolz-0.11.2 dictionaries-0.0.2 distlib-0.3.6 eth-account-0.5.9 eth-bloom-1.0.4 eth-hash-0.3.3 eth-keyfile-0.5.1 eth-keys-0.3.4 eth-rlp-0.2.1 eth-typing-2.3.0 eth-utils-1.10.0 eth_abi-2.2.0 ethereum-input-decoder-0.2.2 hexbytes-0.2.3 humanfriendly-10.0 identify-2.5.22 mock-5.0.2 mypy-extensions-0.4.4 mythril-0.23.22 nodeenv-1.7.0 parsimonious-0.8.1 persistent-5.0 pre-commit-2.20.0 py-evm-0.5.0a1 py-flags-1.1.4 py-solc-3.2.0 py-solc-x-1.1.1 py_ecc-4.1.0 pyethash-0.1.27 pyparsing-2.4.7 pytest-cov-4.0.0 pytest_mock-3.10.0 rlp-2.0.1 semantic_version-2.10.0 transaction-3.1.0 trie-2.0.0a5 typing-extensions-3.10.0.2 virtualenv-20.22.0 z3-solver-4.12.1.0 zope.interface-6.0\n"
          ]
        }
      ]
    },
    {
      "cell_type": "code",
      "source": [
        "p = contract_paths[0]\n",
        "result = subprocess.run(['myth','analyze', p], capture_output=True, text=True)\n",
        "print(result)"
      ],
      "metadata": {
        "colab": {
          "base_uri": "https://localhost:8080/"
        },
        "id": "81pIX30Hs5mi",
        "outputId": "80406cef-6f96-460a-9d6f-5f6ff4fd6a41"
      },
      "execution_count": null,
      "outputs": [
        {
          "output_type": "stream",
          "name": "stdout",
          "text": [
            "CompletedProcess(args=['myth', 'analyze', 'downloaded_files/dataset/front_running/odds_and_evens.sol'], returncode=1, stdout=\"==== Unchecked return value from external call. ====\\nSWC ID: 104\\nSeverity: Medium\\nContract: OddsAndEvens\\nFunction name: getProfit()\\nPC address: 428\\nEstimated Gas Usage: 2505 - 37116\\nThe return value of a message call is not checked.\\nExternal calls return a boolean value. If the callee halts with an exception, 'false' is returned and execution continues in the caller. The caller should check whether an exception happened and react accordingly to avoid unexpected behavior. For example it is often desirable to wrap external calls in require() so the transaction is reverted if the call fails.\\n--------------------\\nIn file: downloaded_files/dataset/front_running/odds_and_evens.sol:50\\n\\nmsg.sender.send(this.balance)\\n\\n--------------------\\nInitial State:\\n\\nAccount: [CREATOR], balance: 0xf00b80000040002, nonce:0, storage:{}\\nAccount: [ATTACKER], balance: 0x0, nonce:0, storage:{}\\n\\nTransaction Sequence:\\n\\nCaller: [CREATOR], calldata: , decoded_data: , value: 0x0\\nCaller: [CREATOR], function: play(uint256), txdata: 0x6898f82b, value: 0xde0b6b3a7640000\\nCaller: [CREATOR], function: getProfit(), txdata: 0x679dffb4, value: 0x0\\n\\n==== Exception State ====\\nSWC ID: 110\\nSeverity: Medium\\nContract: OddsAndEvens\\nFunction name: players(uint256)\\nPC address: 727\\nEstimated Gas Usage: 258 - 353\\nAn assertion violation was triggered.\\nIt is possible to trigger an assertion violation. Note that Solidity assert() statements should only be used to check invariants. Review the transaction trace generated for this issue and either make sure your program logic is correct, or use require() instead of assert() if your goal is to constrain user inputs or enforce preconditions. Remember to validate inputs from both callers (for instance, via passed arguments) and callees (for instance, via return values).\\n--------------------\\nIn file: downloaded_files/dataset/front_running/odds_and_evens.sol:16\\n\\nPlayer[2] public players\\n\\n--------------------\\nInitial State:\\n\\nAccount: [CREATOR], balance: 0x0, nonce:0, storage:{}\\nAccount: [ATTACKER], balance: 0x0, nonce:0, storage:{}\\n\\nTransaction Sequence:\\n\\nCaller: [CREATOR], calldata: , decoded_data: , value: 0x0\\nCaller: [ATTACKER], function: players(uint256), txdata: 0xf71d96cb80, decoded_data: (57896044618658097711785492504343953926634992332820282019728792003956564819968,), value: 0x0\\n\\n==== Integer Arithmetic Bugs ====\\nSWC ID: 101\\nSeverity: High\\nContract: OddsAndEvens\\nFunction name: play(uint256)\\nPC address: 837\\nEstimated Gas Usage: 50811 - 248626\\nThe arithmetic operator can overflow.\\nIt is possible to cause an integer overflow or underflow in the arithmetic operation. \\n--------------------\\nIn file: downloaded_files/dataset/front_running/odds_and_evens.sol:36\\n\\nplayers[0].number+players[1].number\\n\\n--------------------\\nInitial State:\\n\\nAccount: [CREATOR], balance: 0x40560000000000001, nonce:0, storage:{}\\nAccount: [ATTACKER], balance: 0x40000c80400000010, nonce:0, storage:{}\\n\\nTransaction Sequence:\\n\\nCaller: [CREATOR], calldata: , decoded_data: , value: 0x0\\nCaller: [CREATOR], function: play(uint256), txdata: 0x6898f82b80, decoded_data: (57896044618658097711785492504343953926634992332820282019728792003956564819968,), value: 0xde0b6b3a7640000\\nCaller: [ATTACKER], function: play(uint256), txdata: 0x6898f82b80, decoded_data: (57896044618658097711785492504343953926634992332820282019728792003956564819968,), value: 0xde0b6b3a7640000\\n\\n==== Unchecked return value from external call. ====\\nSWC ID: 104\\nSeverity: Medium\\nContract: OddsAndEvens\\nFunction name: play(uint256)\\nPC address: 970\\nEstimated Gas Usage: 50811 - 248626\\nThe return value of a message call is not checked.\\nExternal calls return a boolean value. If the callee halts with an exception, 'false' is returned and execution continues in the caller. The caller should check whether an exception happened and react accordingly to avoid unexpected behavior. For example it is often desirable to wrap external calls in require() so the transaction is reverted if the call fails.\\n--------------------\\nIn file: downloaded_files/dataset/front_running/odds_and_evens.sol:38\\n\\nplayers[0].addr.send(1800 finney)\\n\\n--------------------\\nInitial State:\\n\\nAccount: [CREATOR], balance: 0x1060c00448040000, nonce:0, storage:{}\\nAccount: [ATTACKER], balance: 0x1000000000000000, nonce:0, storage:{}\\n\\nTransaction Sequence:\\n\\nCaller: [CREATOR], calldata: , decoded_data: , value: 0x0\\nCaller: [ATTACKER], function: play(uint256), txdata: 0x6898f82b, value: 0xde0b6b3a7640000\\nCaller: [CREATOR], function: play(uint256), txdata: 0x6898f82b, value: 0xde0b6b3a7640000\\n\\n==== Unchecked return value from external call. ====\\nSWC ID: 104\\nSeverity: Medium\\nContract: OddsAndEvens\\nFunction name: play(uint256)\\nPC address: 1093\\nEstimated Gas Usage: 50801 - 248616\\nThe return value of a message call is not checked.\\nExternal calls return a boolean value. If the callee halts with an exception, 'false' is returned and execution continues in the caller. The caller should check whether an exception happened and react accordingly to avoid unexpected behavior. For example it is often desirable to wrap external calls in require() so the transaction is reverted if the call fails.\\n--------------------\\nIn file: downloaded_files/dataset/front_running/odds_and_evens.sol:41\\n\\nplayers[1].addr.send(1800 finney)\\n\\n--------------------\\nInitial State:\\n\\nAccount: [CREATOR], balance: 0x0, nonce:0, storage:{}\\nAccount: [ATTACKER], balance: 0x1000000000000000, nonce:0, storage:{}\\n\\nTransaction Sequence:\\n\\nCaller: [CREATOR], calldata: , decoded_data: , value: 0x0\\nCaller: [ATTACKER], function: play(uint256), txdata: 0x6898f82b, value: 0xde0b6b3a7640000\\nCaller: [SOMEGUY], function: play(uint256), txdata: 0x6898f82b9898989898989898989898989898989898989898989898989898989898989801, decoded_data: (69021166917929653742677606750276713700772696741872022486264912820403120412673,), value: 0xde0b6b3a7640000\\n\\n==== Unprotected Ether Withdrawal ====\\nSWC ID: 105\\nSeverity: High\\nContract: OddsAndEvens\\nFunction name: play(uint256)\\nPC address: 1093\\nEstimated Gas Usage: 50801 - 248616\\nAny sender can withdraw Ether from the contract account.\\nArbitrary senders other than the contract creator can profitably extract Ether from the contract account. Verify the business logic carefully and make sure that appropriate security controls are in place to prevent unexpected loss of funds.\\n--------------------\\nIn file: downloaded_files/dataset/front_running/odds_and_evens.sol:41\\n\\nplayers[1].addr.send(1800 finney)\\n\\n--------------------\\nInitial State:\\n\\nAccount: [CREATOR], balance: 0x0, nonce:0, storage:{}\\nAccount: [ATTACKER], balance: 0x40080cb75c8a80002, nonce:0, storage:{}\\n\\nTransaction Sequence:\\n\\nCaller: [CREATOR], calldata: , decoded_data: , value: 0x0\\nCaller: [SOMEGUY], function: play(uint256), txdata: 0x6898f82b, value: 0xde0b6b3a7640000\\nCaller: [ATTACKER], function: play(uint256), txdata: 0x6898f82b9898989898989898989898989898989898989898989898989898989898989801, decoded_data: (69021166917929653742677606750276713700772696741872022486264912820403120412673,), value: 0xde0b6b3a7640000\\n\\n\\n\", stderr='')\n"
          ]
        }
      ]
    },
    {
      "cell_type": "code",
      "source": [
        "# #analyse all the contracts using mythrill\n",
        "print(\"\\n\\n\\n\\=================Running Mythrill==========================\")\n",
        "mythrill_result = {}\n",
        "cnt = 0\n",
        "for contract_path in contract_paths:\n",
        "  cnt +=1\n",
        "  print(cnt)\n",
        "\n",
        "  try:\n",
        "    p = contract_path\n",
        "    result = subprocess.run(['myth','analyze', p], capture_output=True, text=True)\n",
        "    mythrill_result[contract_path] = result.stdout\n",
        "  except Exception as e:\n",
        "    print(e)\n",
        "    print('unable to run mythrill for ' + contract_path)"
      ],
      "metadata": {
        "colab": {
          "base_uri": "https://localhost:8080/"
        },
        "id": "SOfuJ4XluM_k",
        "outputId": "8b8ef9b1-f55f-44b5-a2cc-630932360b94"
      },
      "execution_count": null,
      "outputs": [
        {
          "metadata": {
            "tags": null
          },
          "name": "stdout",
          "output_type": "stream",
          "text": [
            "\n",
            "\n",
            "\n",
            "\\=================Running Mythrill==========================\n",
            "1\n",
            "2\n",
            "3\n",
            "4\n",
            "5\n",
            "6\n",
            "7\n",
            "8\n",
            "9\n",
            "10\n",
            "11\n",
            "12\n",
            "13\n",
            "14\n",
            "15\n",
            "16\n",
            "17\n",
            "18\n"
          ]
        }
      ]
    },
    {
      "cell_type": "code",
      "source": [
        "print(len(mythrill_result))"
      ],
      "metadata": {
        "id": "lbEKjDFUxRtt"
      },
      "execution_count": null,
      "outputs": []
    },
    {
      "cell_type": "code",
      "source": [
        "# # Open the file for writing\n",
        "# with open('mythrill_analysis_run_10_result.json', 'w') as f:\n",
        "#     # Convert the dictionary to JSON and write it to the file\n",
        "#     json.dump(mythrill_result, f)"
      ],
      "metadata": {
        "id": "KboupKiT4gWl"
      },
      "execution_count": null,
      "outputs": []
    },
    {
      "cell_type": "code",
      "source": [],
      "metadata": {
        "id": "Y4ah2wh04qQ4"
      },
      "execution_count": null,
      "outputs": []
    },
    {
      "cell_type": "code",
      "source": [],
      "metadata": {
        "id": "HVwtfRFd6OPU"
      },
      "execution_count": null,
      "outputs": []
    }
  ]
}